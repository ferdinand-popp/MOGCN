{
 "cells": [
  {
   "cell_type": "code",
   "execution_count": null,
   "id": "c3ceb4fa",
   "metadata": {
    "pycharm": {
     "name": "#%%\n"
    }
   },
   "outputs": [],
   "source": [
    "import pandas as pd\n",
    "import bamboolib"
   ]
  },
  {
   "cell_type": "code",
   "execution_count": null,
   "id": "91efb8cd",
   "metadata": {
    "pycharm": {
     "name": "#%%\n"
    }
   },
   "outputs": [],
   "source": [
    "url = r\"Z:\\HiWi\\Popp\\TCGA_Breast_2022\\TCGA_BRCA_PAM50_2021.xlsx\"\n",
    "df = pd.read_excel(url)\n",
    "import pandas as pd; import numpy as np\n",
    "# Step: Select columns\n",
    "df = df[['CLID', 'PAM50 and Claudin-low (CLOW) Molecular Subtype']]\n",
    "\n",
    "# Step: Rename multiple columns\n",
    "df = df.rename(columns={'CLID': 'Sample_ID', 'PAM50 and Claudin-low (CLOW) Molecular Subtype': 'PAM50'})\n",
    "\n",
    "df"
   ]
  },
  {
   "cell_type": "code",
   "execution_count": null,
   "id": "3ff56b60",
   "metadata": {
    "pycharm": {
     "name": "#%%\n"
    }
   },
   "outputs": [],
   "source": [
    "df.PAM50 = [x if x in ['LumA', 'LumB', 'HER2E', 'Basal'] else 'Other' for x in df.PAM50]\n",
    "df.PAM50.value_counts().plot(kind='bar'), df.PAM50.value_counts()"
   ]
  },
  {
   "cell_type": "code",
   "execution_count": null,
   "id": "83faadef",
   "metadata": {
    "pycharm": {
     "name": "#%%\n"
    }
   },
   "outputs": [],
   "source": [
    "#from original files with only 15%\n",
    "#df.PAM50 = ['Other' if x in ['Unknown', 'Normal'] else x for x in df.PAM50]\n",
    "#df.PAM50.value_counts().plot(kind='bar'), df.PAM50.value_counts()"
   ]
  },
  {
   "cell_type": "code",
   "execution_count": null,
   "id": "a1fe9eff",
   "metadata": {
    "pycharm": {
     "name": "#%%\n"
    }
   },
   "outputs": [],
   "source": [
    "df.to_csv(r\"Z:\\HiWi\\Popp\\TCGA_Breast_2022\\TCGA_BRCA_PAM50_2021.csv\")"
   ]
  },
  {
   "cell_type": "markdown",
   "id": "8ae80edc",
   "metadata": {
    "pycharm": {
     "name": "#%% md\n"
    }
   },
   "source": [
    " ## Other PAM50 file"
   ]
  },
  {
   "cell_type": "code",
   "execution_count": null,
   "id": "9331a8b5",
   "metadata": {
    "pycharm": {
     "name": "#%%\n"
    }
   },
   "outputs": [],
   "source": [
    "url = r\"Z:\\HiWi\\Popp\\TCGA_Breast_2022\\TCGA.BRCA.sampleMap_BRCA_clinicalMatrix\"\n",
    "df2 = pd.read_csv(url, sep=\"\\t\")\n",
    "import pandas as pd; import numpy as np\n",
    "# Step: Select columns\n",
    "df2 = df2[['sampleID', 'PAM50Call_RNAseq']]\n",
    "\n",
    "# Step: Keep rows where PAM50Call_RNAseq is not missing\n",
    "df2 = df2.loc[df2['PAM50Call_RNAseq'].notna()]\n",
    "\n",
    "# Step: Rename multiple columns\n",
    "df2 = df2.rename(columns={'sampleID': 'Sample_ID', 'PAM50Call_RNAseq': 'PAM50'})\n",
    "import pandas as pd; import numpy as np\n",
    "# Step: Manipulate strings of 'PAM50' via Find '01' and Replace with '01A'\n",
    "df2[\"Sample_ID\"] = df2[\"Sample_ID\"].str.replace('01', '01A', regex=False)\n",
    "\n",
    "import pandas as pd; import numpy as np\n",
    "# Step: Keep rows where Sample_ID contains E9-A (not case-sensitive)\n",
    "df3 = df2.loc[df2['Sample_ID'].str.contains('E9-A', case=False, regex=False, na=False)]\n",
    "\n",
    "df3"
   ]
  },
  {
   "cell_type": "code",
   "execution_count": null,
   "id": "f88ce2d1",
   "metadata": {
    "pycharm": {
     "name": "#%%\n"
    }
   },
   "outputs": [],
   "source": [
    "df_merge = df.merge(df2, on='Sample_ID')\n",
    "import pandas as pd; import numpy as np\n",
    "df_merge = df_merge.reset_index()\n",
    "df_merge"
   ]
  },
  {
   "cell_type": "code",
   "execution_count": null,
   "id": "ef617d0a",
   "metadata": {
    "pycharm": {
     "name": "#%%\n"
    }
   },
   "outputs": [],
   "source": [
    "df, df2"
   ]
  },
  {
   "cell_type": "code",
   "execution_count": null,
   "id": "c618efce",
   "metadata": {
    "pycharm": {
     "name": "#%%\n"
    }
   },
   "outputs": [],
   "source": []
  }
 ],
 "metadata": {
  "kernelspec": {
   "display_name": "Python 3 (ipykernel)",
   "language": "python",
   "name": "python3"
  },
  "language_info": {
   "codemirror_mode": {
    "name": "ipython",
    "version": 3
   },
   "file_extension": ".py",
   "mimetype": "text/x-python",
   "name": "python",
   "nbconvert_exporter": "python",
   "pygments_lexer": "ipython3",
   "version": "3.10.4"
  }
 },
 "nbformat": 4,
 "nbformat_minor": 5
}
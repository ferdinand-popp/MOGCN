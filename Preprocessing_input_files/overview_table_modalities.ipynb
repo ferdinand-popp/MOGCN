{
 "cells": [
  {
   "cell_type": "markdown",
   "id": "22c43874",
   "metadata": {
    "pycharm": {
     "name": "#%% md\n"
    }
   },
   "source": [
    "# Combine clinical and survival data with overview of present data for each modality/omics to pick patients"
   ]
  },
  {
   "cell_type": "code",
   "execution_count": null,
   "id": "2fa48aee",
   "metadata": {
    "pycharm": {
     "name": "#%%\n"
    }
   },
   "outputs": [],
   "source": [
    "import pandas as pd\n",
    "import polars as pl\n",
    "import numpy as np\n",
    "import bamboolib\n",
    "from pandas_profiling import ProfileReport"
   ]
  },
  {
   "cell_type": "code",
   "execution_count": null,
   "id": "8b18d2a7",
   "metadata": {
    "pycharm": {
     "name": "#%%\n",
     "is_executing": true
    }
   },
   "outputs": [],
   "source": [
    "# Load DF\n",
    "url = \"data/TCGA_LUNG_clinical.csv\"\n",
    "combined_df = pd.read_csv(url, index_col=0)\n",
    "combined_df"
   ]
  },
  {
   "cell_type": "code",
   "execution_count": null,
   "id": "a36f4278",
   "metadata": {
    "pycharm": {
     "name": "#%%\n"
    }
   },
   "outputs": [],
   "source": []
  },
  {
   "cell_type": "markdown",
   "id": "1c3868cd",
   "metadata": {
    "pycharm": {
     "name": "#%% md\n"
    }
   },
   "source": [
    "### disease_code important"
   ]
  },
  {
   "cell_type": "code",
   "execution_count": null,
   "id": "d73484c8",
   "metadata": {
    "pycharm": {
     "name": "#%%\n",
     "is_executing": true
    }
   },
   "outputs": [],
   "source": [
    "# filter clinical features or take all\n",
    "'''\n",
    "combined_df = combined_df[['Sample_ID', '_PATIENT', 'age_at_initial_pathologic_diagnosis',\n",
    "                                 'days_to_new_tumor_event_after_initial_treatment', 'followup_treatment_success',\n",
    "                                 'primary_therapy_outcome_success', 'radiation_therapy',\n",
    "                                 'additional_pharmaceutical_therapy', 'additional_radiation_therapy',\n",
    "                                 'additional_surgery_locoregional_procedure', \n",
    "                                 'other_dx', 'eastern_cancer_oncology_group', 'year_of_initial_pathologic_diagnosis',\n",
    "                                 'gender.demographic', 'OS', 'OS.time']]\n",
    "'''"
   ]
  },
  {
   "cell_type": "code",
   "execution_count": null,
   "id": "4ca71ccb",
   "metadata": {
    "pycharm": {
     "name": "#%%\n"
    }
   },
   "outputs": [],
   "source": [
    "cancer = \"LUNG\"\n",
    "\n",
    "# modalities input single LUAD\n",
    "if cancer == \"LUAD\":\n",
    "    in_out_dict= {\n",
    "                   'Methylation': \"data/TCGA_LUAD_Methylation_450.csv\",\n",
    "                   'RNA_seq': \"data/LUAD_RNA_seq.csv\",\n",
    "                   'miRNA': \"data/TCGA_LUAD_miRNA.csv\",\n",
    "                   'Somatic_Mutation': \"data/TCGA_LUAD_mutation2.csv\",\n",
    "                   'CNV': \"data/TCGA_LUAD_CNV_gene.csv\",\n",
    "                   'Protein_Array': \"data/LUAD_Protein_Array.csv\",\n",
    "                   'Metagenomics':\"data/TCGA_LUAD_Metagenomics.csv\" # on patient level\n",
    "                   }\n",
    "elif cancer == \"LUNG\":\n",
    "# modalities input LUNG\n",
    "    in_out_dict= {\n",
    "                   'Methylation': \"data/TCGA_LUNG_Methylation_450.csv\",\n",
    "                   'RNA_seq': \"data/LUNG_RNA_seq.csv\",\n",
    "                   #'miRNA': r'data\\TCGA_LUNG_miRNA.csv',\n",
    "                   'Somatic_Mutation': \"data/TCGA_LUNG_mutation2.csv\",\n",
    "                   'CNV': \"data/TCGA_LUNG_CNV_gene.csv\",\n",
    "                   'Protein_Array': \"data/LUNG_Protein_Array_Gene_Level.csv\",\n",
    "                   # metagenomics are on patient level\n",
    "                   #'Metagenomics':r'data\\TCGA_LUNG_Metagenomics.csv'\n",
    "                   }\n",
    "else:\n",
    "    # modalities input Breast\n",
    "    in_out_dict = {\n",
    "                   'Methylation': \"data/TCGA_BRCA_Methylation_450.csv\",\n",
    "                   'RNA_seq': \"data/TCGA_BRCA_RNA_seq.csv\",\n",
    "                   'miRNA': \"data/TCGA_BRCA_miRNA.csv\",\n",
    "                   'Somatic_Mutation': \"data/TCGA_BRCA_mutation2.csv\",\n",
    "                   'CNV': \"data/TCGA_BRCA_CNV_gene.csv\"\n",
    "                   }"
   ]
  },
  {
   "cell_type": "code",
   "execution_count": null,
   "id": "45082d84",
   "metadata": {
    "pycharm": {
     "name": "#%%\n",
     "is_executing": true
    }
   },
   "outputs": [],
   "source": [
    "modalities = ['Methylation', 'RNA_seq', 'Somatic_Mutation', 'CNV', 'Protein_Array']\n",
    "\n",
    "# add 1 if in ids\n",
    "ids_samples = combined_df['Sample_ID'].to_list()\n",
    "#ids_patients = combined_df['_PATIENT'].to_list()\n",
    "\n",
    "for name, path in in_out_dict.items():\n",
    "    print('Loading : ' + name)\n",
    "    df = pl.read_csv(path, index_col=0) #polars\n",
    "    if name == 'Metagenomics':\n",
    "        ids = df['Patient_ID'].to_list()\n",
    "        match = list(set(ids) & set(ids_patients))\n",
    "        combined_df[name] = np.where(combined_df['_PATIENT'].isin(match), 1, np.nan)\n",
    "    else:\n",
    "        ids = df['Sample_ID'].to_list()\n",
    "        match = list(set(ids) & set(ids_samples))\n",
    "        combined_df[name] = np.where(combined_df['Sample_ID'].isin(match), 1, np.nan)"
   ]
  },
  {
   "cell_type": "code",
   "execution_count": null,
   "id": "0c37d99c",
   "metadata": {
    "pycharm": {
     "name": "#%%\n",
     "is_executing": true
    }
   },
   "outputs": [],
   "source": [
    "print('Before: ' + str(len(combined_df.index)))\n",
    "# select for at least 50% present modalities in patients\n",
    "combined_df['Sum'] = combined_df[modalities].sum(axis=1)\n",
    "combined_df = combined_df[combined_df['Sum'] > 2]\n",
    "combined_df =  combined_df.drop('Sum', axis=1)\n",
    "print('After: ' + str(len(combined_df.index)))"
   ]
  },
  {
   "cell_type": "code",
   "execution_count": null,
   "id": "5bf4dd04",
   "metadata": {
    "pycharm": {
     "name": "#%%\n",
     "is_executing": true
    }
   },
   "outputs": [],
   "source": [
    "# pandas profiling report for inspection\n",
    "profile = ProfileReport(combined_df, title=\"Pandas Profiling Report\")\n",
    "profile.to_file(\"overview_report.html\")"
   ]
  },
  {
   "cell_type": "code",
   "execution_count": null,
   "id": "6e13f0f8",
   "metadata": {
    "pycharm": {
     "name": "#%%\n"
    }
   },
   "outputs": [],
   "source": [
    "# save for inspection and further use\n",
    "combined_df.to_excel(\"overview_table.xlsx\")\n",
    "combined_df.to_csv(\"data/TCGA_LUNG_overview_table.csv\")"
   ]
  },
  {
   "cell_type": "markdown",
   "id": "a2c71dec",
   "metadata": {
    "pycharm": {
     "name": "#%% md\n"
    }
   },
   "source": [
    "## Figures"
   ]
  },
  {
   "cell_type": "code",
   "execution_count": null,
   "id": "06369a68",
   "metadata": {
    "pycharm": {
     "name": "#%%\n"
    }
   },
   "outputs": [],
   "source": [
    "import missingno\n",
    "#clear clinical prior\n",
    "fig = missingno.matrix(combined_df, fontsize=20)\n",
    "fig"
   ]
  },
  {
   "cell_type": "code",
   "execution_count": null,
   "id": "e320aed7",
   "metadata": {
    "pycharm": {
     "name": "#%%\n"
    }
   },
   "outputs": [],
   "source": [
    "fig_copy = fig.get_figure()\n",
    "fig_copy.savefig('data/Missingno_plot_overview.png', bbox_inches = 'tight')"
   ]
  },
  {
   "cell_type": "code",
   "execution_count": null,
   "id": "e0830a80",
   "metadata": {
    "pycharm": {
     "name": "#%%\n"
    }
   },
   "outputs": [],
   "source": []
  }
 ],
 "metadata": {
  "kernelspec": {
   "display_name": "Python 3 (ipykernel)",
   "language": "python",
   "name": "python3"
  },
  "language_info": {
   "codemirror_mode": {
    "name": "ipython",
    "version": 3
   },
   "file_extension": ".py",
   "mimetype": "text/x-python",
   "name": "python",
   "nbconvert_exporter": "python",
   "pygments_lexer": "ipython3",
   "version": "3.10.4"
  }
 },
 "nbformat": 4,
 "nbformat_minor": 5
}

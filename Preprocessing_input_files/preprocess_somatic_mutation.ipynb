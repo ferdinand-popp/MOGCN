{
 "cells": [
  {
   "cell_type": "code",
   "execution_count": null,
   "id": "c3ceb4fa",
   "metadata": {
    "pycharm": {
     "name": "#%%\n"
    }
   },
   "outputs": [],
   "source": [
    "import pandas as pd"
   ]
  },
  {
   "cell_type": "markdown",
   "id": "816e36fd",
   "metadata": {
    "pycharm": {
     "name": "#%% md\n"
    }
   },
   "source": [
    "## LUAD"
   ]
  },
  {
   "cell_type": "code",
   "execution_count": null,
   "id": "6107cb45",
   "metadata": {
    "pycharm": {
     "name": "#%%\n"
    }
   },
   "outputs": [],
   "source": [
    "url = r'data\\TCGA-LUAD.mutect2_snv.tsv'\n",
    "df_LUAD = pd.read_csv(url, sep='\\t', index_col=0)\n",
    "df_LUAD = df_LUAD[['gene', 'effect']] # kick chr and vaf\n",
    "df = df_LUAD\n",
    "df_LUAD"
   ]
  },
  {
   "cell_type": "markdown",
   "id": "5208b20f",
   "metadata": {
    "pycharm": {
     "name": "#%% md\n"
    }
   },
   "source": [
    "## LUSC"
   ]
  },
  {
   "cell_type": "code",
   "execution_count": null,
   "id": "38f4ee72",
   "metadata": {
    "pycharm": {
     "name": "#%%\n"
    }
   },
   "outputs": [],
   "source": [
    "url = r'data\\TCGA-LUSC.mutect2_snv.tsv'\n",
    "df_LUSC = pd.read_csv(url, sep='\\t', index_col=0)\n",
    "df_LUSC = df_LUSC[['gene', 'effect']] # kick chr and vaf\n",
    "df_LUSC"
   ]
  },
  {
   "cell_type": "code",
   "execution_count": null,
   "id": "17a316c5",
   "metadata": {
    "pycharm": {
     "name": "#%%\n"
    }
   },
   "outputs": [],
   "source": [
    "#combine datasets\n",
    "df = pd.concat([df_LUAD, df_LUSC]) \n",
    "df"
   ]
  },
  {
   "cell_type": "code",
   "execution_count": null,
   "id": "c858182e",
   "metadata": {
    "pycharm": {
     "name": "#%%\n"
    }
   },
   "outputs": [],
   "source": [
    "#filter effects\n",
    "include_effect = ['stop_gained', 'stop_lost', 'missense_variant', 'frameshift_variant']\n",
    "df = df[df.effect.str.contains('|'.join(include_effect))]\n",
    "df.shape"
   ]
  },
  {
   "cell_type": "code",
   "execution_count": null,
   "id": "c6c0a2d2",
   "metadata": {
    "scrolled": false,
    "pycharm": {
     "name": "#%%\n"
    }
   },
   "outputs": [],
   "source": [
    "#occurence matrix \n",
    "df = pd.crosstab(df.index, df.gene)\n",
    "df_TMB = df #for TMB safe\n",
    "df"
   ]
  },
  {
   "cell_type": "code",
   "execution_count": null,
   "id": "10c642aa",
   "metadata": {
    "pycharm": {
     "name": "#%%\n"
    }
   },
   "outputs": [],
   "source": [
    "# reduce multiple muts to one in df\n",
    "df = df.clip(upper=1)\n",
    "df.max()"
   ]
  },
  {
   "cell_type": "code",
   "execution_count": null,
   "id": "c7212dd4",
   "metadata": {
    "pycharm": {
     "name": "#%%\n"
    }
   },
   "outputs": [],
   "source": [
    "#remove cols sum = 0 or only one patient\n",
    "df = df.loc[:, (df.sum(axis=0) > 1)]"
   ]
  },
  {
   "cell_type": "code",
   "execution_count": null,
   "id": "7a6ccbb2",
   "metadata": {
    "pycharm": {
     "name": "#%%\n"
    }
   },
   "outputs": [],
   "source": [
    "## check sparsity\n",
    "(df.to_numpy() == 0).mean()"
   ]
  },
  {
   "cell_type": "code",
   "execution_count": null,
   "id": "5b1e20a1",
   "metadata": {
    "pycharm": {
     "name": "#%%\n"
    }
   },
   "outputs": [],
   "source": [
    "df = df.reset_index()\n",
    "df.rename(columns = {'row_0':'Sample_ID'}, inplace = True)\n",
    "df.dropna(how='all', axis=1, inplace=True)\n",
    "\n",
    "#remove double samples if present\n",
    "print(df.Sample_ID.is_unique)\n",
    "df"
   ]
  },
  {
   "cell_type": "code",
   "execution_count": null,
   "id": "affd82b9",
   "metadata": {
    "pycharm": {
     "name": "#%%\n"
    }
   },
   "outputs": [],
   "source": "df.to_csv(\"data\\TCGA_LUAD_mutation2.csv\")"
  },
  {
   "cell_type": "markdown",
   "id": "2286a34b",
   "metadata": {
    "pycharm": {
     "name": "#%% md\n"
    }
   },
   "source": [
    "## Export TMB for samples"
   ]
  },
  {
   "cell_type": "code",
   "execution_count": null,
   "id": "0e8d9b1f",
   "metadata": {
    "pycharm": {
     "name": "#%%\n"
    }
   },
   "outputs": [],
   "source": [
    "#saved before clipping mut to 1\n",
    "df_TMB['TMB'] = df_TMB.sum(axis = 1)/30\n",
    "df_TMB['TMB'].plot.hist()"
   ]
  },
  {
   "cell_type": "code",
   "execution_count": null,
   "id": "430a6a9f",
   "metadata": {
    "pycharm": {
     "name": "#%%\n"
    }
   },
   "outputs": [],
   "source": [
    "hypermut = ['Yes' if x >= 8.7 else 'No' for x in df_TMB['TMB']]\n",
    "df_TMB['Hypermut'] = hypermut\n",
    "df_TMB['Sample_ID'] = df_TMB.index.values\n",
    "df_TMB = df_TMB[['Sample_ID', 'TMB']]\n",
    "df_TMB.reset_index(drop=True, inplace=True)\n",
    "df_TMB"
   ]
  },
  {
   "cell_type": "code",
   "execution_count": null,
   "id": "50767446",
   "metadata": {
    "pycharm": {
     "name": "#%%\n"
    }
   },
   "outputs": [],
   "source": "df_TMB.to_csv('data\\TCGA_BRCA_TMB.csv')"
  },
  {
   "cell_type": "code",
   "execution_count": null,
   "id": "fce8ba5f",
   "metadata": {
    "pycharm": {
     "name": "#%%\n"
    }
   },
   "outputs": [],
   "source": []
  }
 ],
 "metadata": {
  "kernelspec": {
   "display_name": "Python 3 (ipykernel)",
   "language": "python",
   "name": "python3"
  },
  "language_info": {
   "codemirror_mode": {
    "name": "ipython",
    "version": 3
   },
   "file_extension": ".py",
   "mimetype": "text/x-python",
   "name": "python",
   "nbconvert_exporter": "python",
   "pygments_lexer": "ipython3",
   "version": "3.10.4"
  }
 },
 "nbformat": 4,
 "nbformat_minor": 5
}

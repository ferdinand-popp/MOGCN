{
 "cells": [
  {
   "cell_type": "code",
   "execution_count": null,
   "id": "c3ceb4fa",
   "metadata": {
    "pycharm": {
     "name": "#%%\n"
    }
   },
   "outputs": [],
   "source": [
    "import pandas as pd\n",
    "\n",
    "#Protein_Array\n",
    "def rename_proteins(x):\n",
    "    x = x.split('|')[0]\n",
    "    x = x.split(' ')[0]\n",
    "    return x"
   ]
  },
  {
   "cell_type": "markdown",
   "id": "9e90eb5b",
   "metadata": {
    "pycharm": {
     "name": "#%% md\n"
    }
   },
   "source": [
    "## LUAD"
   ]
  },
  {
   "cell_type": "code",
   "execution_count": null,
   "id": "6107cb45",
   "metadata": {
    "pycharm": {
     "name": "#%%\n"
    }
   },
   "outputs": [],
   "source": [
    "url = r'Z:\\HiWi\\Popp\\TCGA_NSCLC_2022\\LUAD\\ProteinArray\\LUAD.rppa.txt'\n",
    "df_LUAD = pd.read_csv(url, sep='\\t', index_col=0)\n",
    "df_LUAD.index = df_LUAD.index.map(rename_proteins)\n",
    "df_LUAD = df_LUAD.groupby(['Composite.Element.REF']).mean()\n",
    "df = df_LUAD\n",
    "df_LUAD"
   ]
  },
  {
   "cell_type": "markdown",
   "id": "6d79c774",
   "metadata": {
    "pycharm": {
     "name": "#%% md\n"
    }
   },
   "source": [
    "## LUSC"
   ]
  },
  {
   "cell_type": "code",
   "execution_count": null,
   "id": "8a4393ef",
   "metadata": {
    "scrolled": false,
    "pycharm": {
     "name": "#%%\n"
    }
   },
   "outputs": [],
   "source": [
    "url = r'Z:\\HiWi\\Popp\\TCGA_NSCLC_2022\\LUSC\\ProteinArray\\LUSC.rppa.txt'\n",
    "df_LUSC = pd.read_csv(url, sep='\\t', index_col=0)\n",
    "df_LUSC.index = df_LUSC.index.map(rename_proteins)\n",
    "df_LUSC = df_LUSC.groupby(['Composite.Element.REF']).mean()\n",
    "df_LUSC"
   ]
  },
  {
   "cell_type": "code",
   "execution_count": null,
   "id": "64d52d64",
   "metadata": {
    "pycharm": {
     "name": "#%%\n"
    }
   },
   "outputs": [],
   "source": [
    "#combine LUAD and LUSC\n",
    "if list(df_LUAD.index) == list(df_LUSC.index): #if same order\n",
    "    df = pd.concat([df_LUAD, df_LUSC], axis = 1) \n",
    "df"
   ]
  },
  {
   "cell_type": "markdown",
   "id": "695ec9e0",
   "metadata": {
    "pycharm": {
     "name": "#%% md\n"
    }
   },
   "source": [
    "## Impute KNN"
   ]
  },
  {
   "cell_type": "code",
   "execution_count": null,
   "id": "7d3c882d",
   "metadata": {
    "pycharm": {
     "name": "#%%\n"
    }
   },
   "outputs": [],
   "source": [
    "df = df.T\n",
    "\n",
    "from sklearn.impute import KNNImputer\n",
    "imputer = KNNImputer(n_neighbors=5, weights='uniform', metric='nan_euclidean')\n",
    "Xtrans = imputer.fit_transform(df)\n",
    "df[:] = Xtrans\n",
    "df"
   ]
  },
  {
   "cell_type": "code",
   "execution_count": null,
   "id": "fc376b7a",
   "metadata": {
    "pycharm": {
     "name": "#%%\n"
    }
   },
   "outputs": [],
   "source": [
    "#scale  0 to 1\n",
    "from sklearn.preprocessing import MinMaxScaler\n",
    "df.iloc[:,:] = MinMaxScaler().fit_transform(df.iloc[:,:])\n",
    "df"
   ]
  },
  {
   "cell_type": "code",
   "execution_count": null,
   "id": "6f53ab1b",
   "metadata": {
    "pycharm": {
     "name": "#%%\n"
    }
   },
   "outputs": [],
   "source": [
    "df = df.reset_index()\n",
    "df.rename(columns = {'index':'Sample_ID'}, inplace = True)\n",
    "df['Sample_ID'] = df['Sample_ID'].str[:16]\n",
    "df.dropna(how='all', axis=1, inplace=True)\n",
    "df"
   ]
  },
  {
   "cell_type": "code",
   "execution_count": null,
   "id": "ac12b218",
   "metadata": {
    "pycharm": {
     "name": "#%%\n"
    }
   },
   "outputs": [],
   "source": [
    "#df.to_csv('Z:\\HiWi\\Popp\\TCGA_NSCLC_2022\\LUNG\\LUNG_Protein_Array_Gene_Level.csv')\n",
    "df.to_csv(\"Z:\\HiWi\\Popp\\TCGA_NSCLC_2022\\LUAD\\ProteinArray\\LUAD_Protein_Array_Gene_Level.csv\")"
   ]
  },
  {
   "cell_type": "code",
   "execution_count": null,
   "id": "affd82b9",
   "metadata": {
    "pycharm": {
     "name": "#%%\n"
    }
   },
   "outputs": [],
   "source": []
  }
 ],
 "metadata": {
  "kernelspec": {
   "display_name": "Python 3 (ipykernel)",
   "language": "python",
   "name": "python3"
  },
  "language_info": {
   "codemirror_mode": {
    "name": "ipython",
    "version": 3
   },
   "file_extension": ".py",
   "mimetype": "text/x-python",
   "name": "python",
   "nbconvert_exporter": "python",
   "pygments_lexer": "ipython3",
   "version": "3.10.4"
  }
 },
 "nbformat": 4,
 "nbformat_minor": 5
}
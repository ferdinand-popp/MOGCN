{
 "cells": [
  {
   "cell_type": "code",
   "execution_count": null,
   "id": "c3ceb4fa",
   "metadata": {
    "pycharm": {
     "name": "#%%\n"
    }
   },
   "outputs": [],
   "source": [
    "import pandas as pd\n",
    "from sklearn.preprocessing import MinMaxScaler"
   ]
  },
  {
   "cell_type": "markdown",
   "id": "b4f94238",
   "metadata": {
    "pycharm": {
     "name": "#%% md\n"
    }
   },
   "source": [
    "## LUAD"
   ]
  },
  {
   "cell_type": "code",
   "execution_count": null,
   "id": "6107cb45",
   "metadata": {
    "pycharm": {
     "name": "#%%\n"
    }
   },
   "outputs": [],
   "source": [
    "url = \"data/TCGA-LUAD.gistic.tsv\"\n",
    "df_LUAD = pd.read_csv(url, sep='\\t', index_col=0)\n",
    "df_LUAD = df_LUAD.T\n",
    "df_LUAD.dropna(how='all', axis=1, inplace=True)\n",
    "df_LUAD = df_LUAD.reindex(sorted(df_LUAD.columns), axis=1)\n",
    "df = df_LUAD\n",
    "df_LUAD"
   ]
  },
  {
   "cell_type": "markdown",
   "id": "530cc6d0",
   "metadata": {
    "pycharm": {
     "name": "#%% md\n"
    }
   },
   "source": [
    "## LUSC"
   ]
  },
  {
   "cell_type": "code",
   "execution_count": null,
   "id": "6203e16a",
   "metadata": {
    "pycharm": {
     "name": "#%%\n"
    }
   },
   "outputs": [],
   "source": [
    "url = \"data/TCGA-LUSC.gistic.tsv\"\n",
    "df_LUSC = pd.read_csv(url, sep='\\t', index_col=0)\n",
    "df_LUSC = df_LUSC.T\n",
    "df_LUSC.dropna(how='all', axis=1, inplace=True)\n",
    "df_LUSC = df_LUSC.reindex(sorted(df_LUSC.columns), axis=1)\n",
    "df_LUSC"
   ]
  },
  {
   "cell_type": "code",
   "execution_count": null,
   "id": "b3ed053a",
   "metadata": {
    "pycharm": {
     "name": "#%%\n"
    }
   },
   "outputs": [],
   "source": [
    "#combine LUAD and LUSC\n",
    "if list(df_LUAD.columns) == list(df_LUSC.columns): #if same order\n",
    "    df = pd.concat([df_LUAD, df_LUSC], axis = 0) \n",
    "df"
   ]
  },
  {
   "cell_type": "code",
   "execution_count": null,
   "id": "5b1e20a1",
   "metadata": {
    "pycharm": {
     "name": "#%%\n"
    }
   },
   "outputs": [],
   "source": [
    "#remove cols with only one same value \n",
    "nunique = df.nunique()\n",
    "cols_to_drop = nunique[nunique == 1].index\n",
    "df.drop(cols_to_drop, axis=1)\n",
    "\n",
    "#remove double samples if present\n",
    "print(df.index.is_unique)\n",
    "df"
   ]
  },
  {
   "cell_type": "code",
   "execution_count": null,
   "id": "ca46a1fe",
   "metadata": {
    "pycharm": {
     "name": "#%%\n"
    }
   },
   "outputs": [],
   "source": [
    "#nan check \n",
    "df.isna().any().sum()"
   ]
  },
  {
   "cell_type": "code",
   "execution_count": null,
   "id": "610446bf",
   "metadata": {
    "pycharm": {
     "name": "#%%\n"
    }
   },
   "outputs": [],
   "source": [
    "#scale 0-1\n",
    "df = pd.DataFrame(MinMaxScaler().fit_transform(df), columns=df.columns, index= df.index)\n",
    "df"
   ]
  },
  {
   "cell_type": "code",
   "execution_count": null,
   "id": "affd82b9",
   "metadata": {
    "pycharm": {
     "name": "#%%\n"
    }
   },
   "outputs": [],
   "source": [
    "df = df.reset_index()\n",
    "df.rename(columns = {'index':'Sample_ID'}, inplace = True)\n",
    "df"
   ]
  },
  {
   "cell_type": "code",
   "execution_count": null,
   "id": "a1fe9eff",
   "metadata": {
    "pycharm": {
     "name": "#%%\n"
    }
   },
   "outputs": [],
   "source": "df.to_csv(\"data/TCGA_LUAD_CNV_gene.csv\")"
  },
  {
   "cell_type": "code",
   "execution_count": null,
   "id": "f2bfd964",
   "metadata": {
    "pycharm": {
     "name": "#%%\n"
    }
   },
   "outputs": [],
   "source": ""
  }
 ],
 "metadata": {
  "kernelspec": {
   "display_name": "Python 3 (ipykernel)",
   "language": "python",
   "name": "python3"
  },
  "language_info": {
   "codemirror_mode": {
    "name": "ipython",
    "version": 3
   },
   "file_extension": ".py",
   "mimetype": "text/x-python",
   "name": "python",
   "nbconvert_exporter": "python",
   "pygments_lexer": "ipython3",
   "version": "3.10.4"
  }
 },
 "nbformat": 4,
 "nbformat_minor": 5
}

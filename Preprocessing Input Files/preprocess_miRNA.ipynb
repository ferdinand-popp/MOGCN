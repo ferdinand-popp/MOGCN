{
 "cells": [
  {
   "cell_type": "markdown",
   "id": "98748bb7",
   "metadata": {
    "pycharm": {
     "name": "#%% md\n"
    }
   },
   "source": [
    "## LUAD"
   ]
  },
  {
   "cell_type": "code",
   "execution_count": null,
   "id": "07e59971",
   "metadata": {
    "pycharm": {
     "name": "#%%\n"
    }
   },
   "outputs": [],
   "source": [
    "import pandas as pd\n",
    "\n",
    "#inspection for all data types\n",
    "url = r\"Z:\\HiWi\\Popp\\TCGA_Breast_2022\\TCGA-BRCA.mirna.tsv\" # r\"Z:\\HiWi\\Popp\\TCGA_NSCLC_2022\\LUAD\\miRNA_expression\\TCGA-LUAD.mirna.tsv\"\n",
    "df_LUAD = pd.read_csv(url, sep='\\t', index_col=0)\n",
    "df_LUAD.dropna(how='all', axis=0, inplace=True) #drop patient\n",
    "df = df_LUAD\n",
    "df_LUAD"
   ]
  },
  {
   "cell_type": "markdown",
   "id": "c5ddd99a",
   "metadata": {
    "pycharm": {
     "name": "#%% md\n"
    }
   },
   "source": [
    "## LUSC"
   ]
  },
  {
   "cell_type": "code",
   "execution_count": null,
   "id": "dd164d8a",
   "metadata": {
    "pycharm": {
     "name": "#%%\n"
    }
   },
   "outputs": [],
   "source": [
    "#inspection for all data types\n",
    "url = r\"Z:\\HiWi\\Popp\\TCGA_NSCLC_2022\\LUSC\\miRNA_expression\\TCGA-LUSC.mirna.tsv\"\n",
    "df_LUSC = pd.read_csv(url, sep='\\t', index_col=0)\n",
    "df_LUSC.dropna(how='all', axis=0, inplace=True) #drop patient\n",
    "df_LUSC"
   ]
  },
  {
   "cell_type": "code",
   "execution_count": null,
   "id": "40b7e50e",
   "metadata": {
    "pycharm": {
     "name": "#%%\n"
    }
   },
   "outputs": [],
   "source": [
    "#combine LUAD and LUSC\n",
    "if list(df_LUAD.index) == list(df_LUSC.index): #if same order\n",
    "    df = pd.concat([df_LUAD, df_LUSC], axis = 1) \n",
    "df"
   ]
  },
  {
   "cell_type": "code",
   "execution_count": null,
   "id": "0bd7cb80",
   "metadata": {
    "pycharm": {
     "name": "#%%\n"
    }
   },
   "outputs": [],
   "source": [
    "#import numpy as np\n",
    "#df = np.log2(df+1)"
   ]
  },
  {
   "cell_type": "code",
   "execution_count": null,
   "id": "22558510",
   "metadata": {
    "pycharm": {
     "name": "#%%\n"
    }
   },
   "outputs": [],
   "source": [
    "df = df.T\n",
    "df.dropna(how='all', axis=1, inplace=True) # drop patients\n",
    "#remove feature cols sum = 0\n",
    "df = df.loc[:, (df.sum(axis=0) != 0)]\n",
    "#remove double samples if present\n",
    "assert df.index.is_unique, \"Check Dataframe\"\n",
    "df"
   ]
  },
  {
   "cell_type": "code",
   "execution_count": null,
   "id": "9f698446",
   "metadata": {
    "pycharm": {
     "name": "#%%\n"
    }
   },
   "outputs": [],
   "source": [
    "from sklearn.preprocessing import MinMaxScaler\n",
    "#scale 0-1\n",
    "df = pd.DataFrame(MinMaxScaler().fit_transform(df), columns=df.columns, index= df.index)\n",
    "df"
   ]
  },
  {
   "cell_type": "code",
   "execution_count": null,
   "id": "587bd2e6",
   "metadata": {
    "pycharm": {
     "name": "#%%\n"
    }
   },
   "outputs": [],
   "source": [
    "df.reset_index(inplace = True)\n",
    "df.rename(columns = {'index':'Sample_ID'}, inplace = True)\n",
    "df"
   ]
  },
  {
   "cell_type": "code",
   "execution_count": null,
   "id": "1d0f539c",
   "metadata": {
    "pycharm": {
     "name": "#%%\n"
    }
   },
   "outputs": [],
   "source": [
    "df.to_csv('Z:\\HiWi\\Popp\\TCGA_Breast_2022\\TCGA_BRCA_miRNA.csv')\n",
    "#df.to_csv('Z:\\HiWi\\Popp\\TCGA_NSCLC_2022\\LUNG\\TCGA_LUNG_miRNA.csv')\n",
    "#df.to_csv(\"Z:\\HiWi\\Popp\\TCGA_NSCLC_2022\\LUAD\\miRNA_expression\\TCGA_LUAD_miRNA.csv\")"
   ]
  },
  {
   "cell_type": "code",
   "execution_count": null,
   "id": "c3eb61f6",
   "metadata": {
    "pycharm": {
     "name": "#%%\n"
    }
   },
   "outputs": [],
   "source": []
  }
 ],
 "metadata": {
  "kernelspec": {
   "display_name": "Python 3 (ipykernel)",
   "language": "python",
   "name": "python3"
  },
  "language_info": {
   "codemirror_mode": {
    "name": "ipython",
    "version": 3
   },
   "file_extension": ".py",
   "mimetype": "text/x-python",
   "name": "python",
   "nbconvert_exporter": "python",
   "pygments_lexer": "ipython3",
   "version": "3.10.4"
  }
 },
 "nbformat": 4,
 "nbformat_minor": 5
}
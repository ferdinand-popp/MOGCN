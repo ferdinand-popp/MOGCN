{
 "cells": [
  {
   "cell_type": "code",
   "execution_count": null,
   "id": "c3ceb4fa",
   "metadata": {
    "pycharm": {
     "name": "#%%\n"
    }
   },
   "outputs": [],
   "source": [
    "import bamboolib as bam\n",
    "import pandas as pd\n",
    "import numpy as np\n",
    "import seaborn as sns\n",
    "import matplotlib.pyplot as plt"
   ]
  },
  {
   "cell_type": "markdown",
   "id": "9f477362",
   "metadata": {
    "pycharm": {
     "name": "#%% md\n"
    }
   },
   "source": [
    "## Survival"
   ]
  },
  {
   "cell_type": "code",
   "execution_count": null,
   "id": "d9ac3b20",
   "metadata": {
    "pycharm": {
     "name": "#%%\n"
    }
   },
   "outputs": [],
   "source": [
    "# Survival\n",
    "url = r\"Z:\\HiWi\\Popp\\TCGA_NSCLC_2022\\LUAD\\Clinic\\LUAD.clin.merged.txt\"\n",
    "df_EHR= pd.read_csv(url, sep='\\t', index_col=0)"
   ]
  },
  {
   "cell_type": "code",
   "execution_count": null,
   "id": "9953a6d4",
   "metadata": {
    "pycharm": {
     "name": "#%%\n"
    }
   },
   "outputs": [],
   "source": [
    "import pandas as pd; import numpy as np\n",
    "df_EHR = df_EHR.reset_index()\n",
    "df_EHR"
   ]
  },
  {
   "cell_type": "code",
   "execution_count": null,
   "id": "df6226f0",
   "metadata": {
    "pycharm": {
     "name": "#%%\n"
    }
   },
   "outputs": [],
   "source": [
    "df_EHR.columns[10:110]"
   ]
  },
  {
   "cell_type": "markdown",
   "id": "b0326337",
   "metadata": {
    "pycharm": {
     "name": "#%% md\n"
    }
   },
   "source": [
    "## old"
   ]
  },
  {
   "cell_type": "code",
   "execution_count": null,
   "id": "a1fe9eff",
   "metadata": {
    "scrolled": true,
    "pycharm": {
     "name": "#%%\n"
    }
   },
   "outputs": [],
   "source": [
    "url = r'Z:\\HiWi\\Popp\\TCGA_NSCLC_2022\\LUSC\\Clinic\\TCGA-LUSC.survival.tsv'\n",
    "df_surv_LUSC = pd.read_csv(url, sep='\\t', index_col=0)\n",
    "\n",
    "#combine LUAD and LUSC\n",
    "if list(df_surv_LUAD.columns) == list(df_surv_LUSC.columns): #if same order\n",
    "    df_surv = pd.concat([df_surv_LUAD, df_surv_LUSC], axis = 0) \n",
    "    \n",
    "df_surv.reset_index(inplace=True)\n",
    "df_surv.rename(columns = {'sample':'Sample_ID'}, inplace = True)\n",
    "df_surv"
   ]
  },
  {
   "cell_type": "markdown",
   "id": "d8f8fc17",
   "metadata": {
    "pycharm": {
     "name": "#%% md\n"
    }
   },
   "source": [
    "## Clinical overview"
   ]
  },
  {
   "cell_type": "code",
   "execution_count": null,
   "id": "55ac24ac",
   "metadata": {
    "pycharm": {
     "name": "#%%\n"
    }
   },
   "outputs": [],
   "source": [
    "# Clinical\n",
    "url_clinical = r'Z:\\HiWi\\Popp\\TCGA_NSCLC_2022\\LUAD\\Clinic\\TCGA-LUAD.GDC_phenotype.tsv'\n",
    "df_clinical_LUAD = pd.read_csv(url_clinical, sep='\\t', index_col=0)\n",
    "url_clinical = r'Z:\\HiWi\\Popp\\TCGA_NSCLC_2022\\LUSC\\Clinic\\TCGA-LUSC.GDC_phenotype.tsv'\n",
    "df_clinical_LUSC = pd.read_csv(url_clinical, sep='\\t', index_col=0)\n",
    "\n",
    "#combine LUAD and LUSC\n",
    "if list(df_clinical_LUAD.columns) == list(df_clinical_LUSC.columns): #if same order\n",
    "    df_clinical = pd.concat([df_clinical_LUAD, df_clinical_LUSC], axis = 0) \n",
    "    \n",
    "df_clinical.reset_index(inplace=True)\n",
    "df_clinical.rename(columns = {'submitter_id.samples':'Sample_ID'}, inplace = True)\n",
    "df_clinical"
   ]
  },
  {
   "cell_type": "code",
   "execution_count": null,
   "id": "61c3bddd",
   "metadata": {
    "pycharm": {
     "name": "#%%\n"
    }
   },
   "outputs": [],
   "source": [
    "# kick healthy samples and duplicate Samples\n",
    "df_clinical = df_clinical[df_clinical['Sample_ID'].str[-3:] == '01A']\n",
    "df_clinical.drop_duplicates(inplace=True)\n",
    "df_clinical.shape"
   ]
  },
  {
   "cell_type": "markdown",
   "id": "24a39c48",
   "metadata": {
    "pycharm": {
     "name": "#%% md\n"
    }
   },
   "source": [
    "## Metafeatures like TMB"
   ]
  },
  {
   "cell_type": "code",
   "execution_count": null,
   "id": "5eb4fd4c",
   "metadata": {
    "scrolled": true,
    "pycharm": {
     "name": "#%%\n"
    }
   },
   "outputs": [],
   "source": [
    "# TMB\n",
    "url = r'Z:\\HiWi\\Popp\\TCGA_NSCLC_2022\\LUNG\\TCGA_LUNG_TMB.csv'\n",
    "df_TMB = pd.read_csv(url, index_col=0)\n",
    "df_TMB"
   ]
  },
  {
   "cell_type": "markdown",
   "id": "60b14027",
   "metadata": {
    "pycharm": {
     "name": "#%% md\n"
    }
   },
   "source": [
    "## Combine dataframes into overview"
   ]
  },
  {
   "cell_type": "code",
   "execution_count": null,
   "id": "43246824",
   "metadata": {
    "pycharm": {
     "name": "#%%\n"
    }
   },
   "outputs": [],
   "source": [
    "# match clinical and surv\n",
    "combined_df = pd.merge(df_clinical, df_surv, how=\"outer\", on='Sample_ID')\n",
    "combined_df = pd.merge(combined_df, df_TMB, how='outer', on='Sample_ID')\n",
    "\n",
    "combined_df = combined_df[df_clinical['Sample_ID'].str[-3:] == '01A']\n",
    "combined_df.drop_duplicates(inplace=True)\n",
    "\n",
    "# kick samples without OS or gender info (surrogate for all therapy infos)\n",
    "combined_df = combined_df[combined_df['OS'].notna()]\n",
    "combined_df = combined_df[combined_df['gender.demographic'].notna()] \n",
    "combined_df.reset_index(drop=True, inplace=True)\n",
    "combined_df"
   ]
  },
  {
   "cell_type": "markdown",
   "id": "732aafd9",
   "metadata": {
    "pycharm": {
     "name": "#%% md\n"
    }
   },
   "source": [
    "#### inspect missing features"
   ]
  },
  {
   "cell_type": "code",
   "execution_count": null,
   "id": "3a8b1f63",
   "metadata": {
    "scrolled": true,
    "pycharm": {
     "name": "#%%\n"
    }
   },
   "outputs": [],
   "source": [
    "df = combined_df[['Sample_ID', 'OS', 'OS.time', 'age_at_initial_pathologic_diagnosis', 'year_of_initial_pathologic_diagnosis', 'cigarettes_per_day.exposures', 'pack_years_smoked.exposures', 'prior_malignancy.diagnoses', 'tumor_stage.diagnoses', 'year_of_diagnosis.diagnoses', 'pathologic_T', 'pathologic_M', 'pathologic_N', 'gender.demographic', 'ethnicity.demographic', 'race.demographic']]\n",
    "df.head()"
   ]
  },
  {
   "cell_type": "code",
   "execution_count": null,
   "id": "dd842a94",
   "metadata": {
    "pycharm": {
     "name": "#%%\n"
    }
   },
   "outputs": [],
   "source": [
    "msno.bar(df)"
   ]
  },
  {
   "cell_type": "code",
   "execution_count": null,
   "id": "556e044b",
   "metadata": {
    "pycharm": {
     "name": "#%%\n"
    }
   },
   "outputs": [],
   "source": [
    "df.dtypes"
   ]
  },
  {
   "cell_type": "code",
   "execution_count": null,
   "id": "d838e119",
   "metadata": {
    "pycharm": {
     "name": "#%%\n"
    }
   },
   "outputs": [],
   "source": [
    "# pandas profiling report for inspection\n",
    "profile = ProfileReport(df, title=\"Pandas Profiling Report\")\n",
    "profile.to_widgets()"
   ]
  },
  {
   "cell_type": "code",
   "execution_count": null,
   "id": "a540a4fc",
   "metadata": {
    "pycharm": {
     "name": "#%%\n"
    }
   },
   "outputs": [],
   "source": [
    "# save complete df for inspection and further use\n",
    "combined_df.to_csv(r'Z:\\HiWi\\Popp\\TCGA_NSCLC_2022\\LUNG\\TCGA_LUNG_clinical.csv')"
   ]
  },
  {
   "cell_type": "markdown",
   "id": "a2167dd9",
   "metadata": {
    "pycharm": {
     "name": "#%% md\n"
    }
   },
   "source": [
    "## Make equal sized labels for MoGCN "
   ]
  },
  {
   "cell_type": "code",
   "execution_count": null,
   "id": "70d8df60",
   "metadata": {
    "pycharm": {
     "name": "#%%\n"
    }
   },
   "outputs": [],
   "source": [
    "#change type\n",
    "to_bool = ['prior_malignancy.diagnoses'] #no  yes\n",
    "to_int = ['']\n",
    "to_categorical = ['']\n",
    "\n",
    "#reconstruct features\n",
    "map_stage = {\n",
    "    'not reported':np.NaN,\n",
    "    'stage ia':0,\n",
    "    'stage i':0,\n",
    "    'stage ib':1,\n",
    "    'stage iia':2,\n",
    "    'stage ii':2,\n",
    "    'stage iib':2,\n",
    "    'stage iiia':3,\n",
    "    'stage iii':3,\n",
    "    'stage iiib':3,\n",
    "    'stage iv':3\n",
    "    }\n",
    "df[\"tumor_stage.diagnoses\"] = df[\"tumor_stage.diagnoses\"].replace(map_stage)\n",
    "\n",
    "#imputation needed for \n",
    "numeric = ['age_at_initial_pathologic_diagnosis', 'year_of_initial_pathologic_diagnosis', 'cigarettes_per_day.exposures', 'pack_years_smoked.exposures']\n",
    "categorical = ['']\n",
    "boolean = ['']\n",
    "\n",
    "df['tumor_stage.diagnoses'].value_counts()\n",
    "#lasat save with cell above"
   ]
  },
  {
   "cell_type": "markdown",
   "id": "0b0bbba3",
   "metadata": {
    "pycharm": {
     "name": "#%% md\n"
    }
   },
   "source": [
    "## Make label df for tumor stage 1-4 for MoGCN"
   ]
  },
  {
   "cell_type": "code",
   "execution_count": null,
   "id": "8a4f8312",
   "metadata": {
    "pycharm": {
     "name": "#%%\n"
    }
   },
   "outputs": [],
   "source": [
    "df_cat = df[['sample']]\n",
    "df_cat['label'] = df['tumor_stage.diagnoses'].replace(map_stage).astype(\"string\")\n",
    "df_cat.dropna(inplace=True)\n",
    "df_cat['label'].value_counts()"
   ]
  },
  {
   "cell_type": "code",
   "execution_count": null,
   "id": "302a4c3a",
   "metadata": {
    "pycharm": {
     "name": "#%%\n"
    }
   },
   "outputs": [],
   "source": [
    "df_cat.to_csv(r'Z:\\HiWi\\Popp\\TCGA_NSCLC_2022\\LUAD\\Clinic\\TCGA_LUAD_Tumor_Label.csv')"
   ]
  },
  {
   "cell_type": "markdown",
   "id": "17969b5f",
   "metadata": {
    "pycharm": {
     "name": "#%% md\n"
    }
   },
   "source": [
    "## Make clinical feature vector for training starting from [5]"
   ]
  },
  {
   "cell_type": "code",
   "execution_count": null,
   "id": "96401d31",
   "metadata": {
    "pycharm": {
     "name": "#%%\n"
    }
   },
   "outputs": [],
   "source": [
    "import pandas as pd; import numpy as np\n",
    "# Step: Drop duplicates based on ['Sample_ID']\n",
    "combined_df = combined_df.drop_duplicates(subset=['Sample_ID'], keep='first')\n",
    "combined_df.replace({pd.NA: np.nan}, inplace = True)"
   ]
  },
  {
   "cell_type": "code",
   "execution_count": null,
   "id": "09c177ae",
   "metadata": {
    "pycharm": {
     "name": "#%%\n"
    }
   },
   "outputs": [],
   "source": [
    "# Step: Select columns\n",
    "combined_df_select = combined_df[['Sample_ID', 'primary_diagnosis.diagnoses', 'age_at_initial_pathologic_diagnosis', 'number_pack_years_smoked', 'tobacco_smoking_history', 'other_dx', 'prior_malignancy.diagnoses', 'pathologic_M', 'pathologic_N', 'pathologic_T', 'tumor_stage.diagnoses', 'person_neoplasm_cancer_status', 'gender.demographic', 'race.demographic']]\n",
    "\n",
    "# Step: Change data type of ['Sample_ID', 'location_in_lung_parenchyma', 'other_dx', 'prior_malignancy.diagnoses', 'pathologic_M', 'pathologic_N', 'pathologic_T', 'tumor_stage.diagnoses', 'person_neoplasm_cancer_status', 'gender.demographic', 'race.demographic'] to String/Text\n",
    "for column_name in ['Sample_ID', 'other_dx', 'prior_malignancy.diagnoses', 'pathologic_M', 'pathologic_N', 'pathologic_T', 'tumor_stage.diagnoses', 'person_neoplasm_cancer_status', 'gender.demographic', 'race.demographic']:\n",
    "    combined_df_select[column_name] = combined_df_select[column_name].astype('string')\n",
    "\n",
    "combined_df_select"
   ]
  },
  {
   "cell_type": "code",
   "execution_count": null,
   "id": "8e0aca47",
   "metadata": {
    "pycharm": {
     "name": "#%%\n"
    }
   },
   "outputs": [],
   "source": [
    "#Categories for features\n",
    "#Sample_ID, number_pack_years_smoked, tobacco_smoking_history, other_dx (other malignancy) prior_malignancy.diagnoses, pathologic_M, pathologic_N, pathologic_T, tumor_stage.diagnoses, person_neoplasm_cancer_status,  gender.demographic, race.demographic \n",
    "#low: eastern_cancer_oncology_group, karnofsky_performance_score, performance_status_scale_timing,  location_in_lung_parenchyma \n",
    "#biomarkers: egfr_mutation_performed --> egfr_mutation_result, eml4_alk_translocation_performed, kras_gene_analysis_performed --> kras_mutation_found\n",
    "#future: followup_treatment_success, new_tumor_event_after_initial_treatment, postoperative_rx_tx, primary_therapy_outcome_success, radiation_therapy\n",
    "#calc: year_of_initial_pathologic_diagnosis or age_at_diagnosis.diagnoses or year_of_diagnosis.diagnoses or age_at_initial_pathologic_diagnosis. diagnosis,, age_at_index.demographic or days_to_birth.demographic or year_of_birth.demographic, stopped_smoking_year - patient sample date, pre and post bronchodilator_fev1_percent --> dist?, year_of_tobacco_smoking_onset? diff, location 'location_in_lung_parenchyma' or diagnosis morphology"
   ]
  },
  {
   "cell_type": "code",
   "execution_count": null,
   "id": "60d389b4",
   "metadata": {
    "scrolled": true,
    "pycharm": {
     "name": "#%%\n"
    }
   },
   "outputs": [],
   "source": [
    "#numerics\n",
    "combined_df_select = combined_df_select.replace({pd.NA: np.nan})\n",
    "combined_df_select['other_dx'] = [0 if x == 'No' else 1 for x in combined_df_select['other_dx'] ]\n",
    "combined_df_select['prior_malignancy.diagnoses'] = [1 if 'no' in x else 1 for x in combined_df_select['prior_malignancy.diagnoses'] ]\n",
    "combined_df_select['person_neoplasm_cancer_status'] = [np.nan if pd.isna(x) else 1 if x =='WITH TUMOR' else 0 for x in combined_df_select['person_neoplasm_cancer_status'] ]\n",
    "combined_df_select['tumor_stage.diagnoses'] = [0 if pd.isna(x) else 1 if 'stage iii' in x or 'stage iv' in x else 0 for x in combined_df_select['tumor_stage.diagnoses'] ]\n",
    "combined_df_select['gender.demographic'] = [0 if x == 'male' else 1 for x in combined_df_select['gender.demographic']]"
   ]
  },
  {
   "cell_type": "code",
   "execution_count": null,
   "id": "69a39f0d",
   "metadata": {
    "pycharm": {
     "name": "#%%\n"
    }
   },
   "outputs": [],
   "source": [
    "#categoricals\n",
    "combined_df_select['pathologic_M'] = ['M0' if pd.isna(x) else 'M1' if 'M1' in x else x for x in combined_df_select['pathologic_M'] ]\n",
    "combined_df_select['pathologic_N'] = [ 'N0/NX' if pd.isna(x) or x in ['N0', 'NX'] else 'N1' if x == 'N1' else 'N2/N3' for x in combined_df_select['pathologic_N'] ]\n",
    "combined_df_select['pathologic_T'] = ['T1' if 'T1' in x else 'T2' if 'T2' in x else 'T3' if 'T3' in x else 'T4' if 'T4' in x else 'T1' for x in combined_df_select['pathologic_T'] ]\n",
    "combined_df_select['race.demographic'] = [x if x in ['white', 'not reported'] else 'other' for x in combined_df_select['race.demographic'] ]\n",
    "combined_df_select['primary_diagnosis.diagnoses'] = [x if x in ['Squamous cell carcinoma, NOS', 'Adenocarcinoma, NOS', 'Adenocarcinoma with mixed subtypes'] else 'unreported' if pd.isna(x) else 'other' for x in combined_df_select['primary_diagnosis.diagnoses'] ]"
   ]
  },
  {
   "cell_type": "code",
   "execution_count": null,
   "id": "4c326824",
   "metadata": {
    "pycharm": {
     "name": "#%%\n"
    }
   },
   "outputs": [],
   "source": [
    "# OneHotEncode for categorical\n",
    "features_to_dummy = ['pathologic_M', 'pathologic_N', 'pathologic_T', 'gender.demographic', 'race.demographic']\n",
    "combined_df_select = pd.get_dummies(combined_df_select, prefix_sep='_', drop_first=False)"
   ]
  },
  {
   "cell_type": "code",
   "execution_count": null,
   "id": "dffd1002",
   "metadata": {
    "scrolled": true,
    "pycharm": {
     "name": "#%%\n"
    }
   },
   "outputs": [],
   "source": [
    "#Imputation\n",
    "from sklearn.impute import KNNImputer\n",
    "features_to_impute = ['age_at_initial_pathologic_diagnosis', 'number_pack_years_smoked', 'person_neoplasm_cancer_status']\n",
    "combined_df_select['tobacco_smoking_history'] = combined_df_select['tobacco_smoking_history'].fillna(combined_df_select['tobacco_smoking_history'].median())\n",
    "#for int and float\n",
    "combined_df_select.iloc[:,1:] = KNNImputer().fit_transform(combined_df_select.iloc[:,1:].values) "
   ]
  },
  {
   "cell_type": "code",
   "execution_count": null,
   "id": "923fcc7d",
   "metadata": {
    "pycharm": {
     "name": "#%%\n"
    }
   },
   "outputs": [],
   "source": [
    "#log2\n",
    "combined_df_select['number_pack_years_smoked'] = np.log2(combined_df_select['number_pack_years_smoked'].values)"
   ]
  },
  {
   "cell_type": "code",
   "execution_count": null,
   "id": "7c3cba2f",
   "metadata": {
    "pycharm": {
     "name": "#%%\n"
    }
   },
   "outputs": [],
   "source": [
    "# scale 0 - 1\n",
    "from sklearn.preprocessing import MinMaxScaler\n",
    "combined_df_select.iloc[:,1:] = MinMaxScaler().fit_transform(combined_df_select.iloc[:,1:].values) "
   ]
  },
  {
   "cell_type": "code",
   "execution_count": null,
   "id": "deec2b71",
   "metadata": {
    "pycharm": {
     "name": "#%%\n"
    }
   },
   "outputs": [],
   "source": [
    "# save complete df for inspection and further use\n",
    "combined_df_select.to_csv(r'Z:\\HiWi\\Popp\\TCGA_NSCLC_2022\\LUNG\\TCGA_LUNG_clinical_input_features.csv')"
   ]
  },
  {
   "cell_type": "code",
   "execution_count": null,
   "id": "59b600a5",
   "metadata": {
    "pycharm": {
     "name": "#%%\n"
    }
   },
   "outputs": [],
   "source": [
    "df_ = pd.read_csv(r'Z:\\HiWi\\Popp\\TCGA_NSCLC_2022\\LUNG\\TCGA_LUNG_clinical_input_features.csv', index_col=0)"
   ]
  },
  {
   "cell_type": "code",
   "execution_count": null,
   "id": "ca4d5465",
   "metadata": {
    "pycharm": {
     "name": "#%%\n"
    }
   },
   "outputs": [],
   "source": [
    "df_"
   ]
  },
  {
   "cell_type": "code",
   "execution_count": null,
   "id": "f61ccd29",
   "metadata": {
    "pycharm": {
     "name": "#%%\n"
    }
   },
   "outputs": [],
   "source": []
  }
 ],
 "metadata": {
  "kernelspec": {
   "display_name": "Python 3 (ipykernel)",
   "language": "python",
   "name": "python3"
  },
  "language_info": {
   "codemirror_mode": {
    "name": "ipython",
    "version": 3
   },
   "file_extension": ".py",
   "mimetype": "text/x-python",
   "name": "python",
   "nbconvert_exporter": "python",
   "pygments_lexer": "ipython3",
   "version": "3.10.4"
  }
 },
 "nbformat": 4,
 "nbformat_minor": 5
}
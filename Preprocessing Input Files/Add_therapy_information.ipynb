{
 "cells": [
  {
   "cell_type": "code",
   "execution_count": null,
   "id": "72173fb2",
   "metadata": {
    "pycharm": {
     "name": "#%%\n"
    }
   },
   "outputs": [],
   "source": [
    "import pandas as pd\n",
    "import re\n",
    "\n",
    "def get_drug_columns(df):\n",
    "  # Create an empty list to store the names of the columns we want to concatenate\n",
    "  drug_columns = []\n",
    "\n",
    "  # Iterate through the column names in the dataframe\n",
    "  for col_name in df.columns:\n",
    "        if re.search(r'drugs\\.drug', col_name):\n",
    "            print(col_name)\n",
    "            drug_columns.append(col_name)\n",
    "\n",
    "  # Concatenate the columns in the list and return the result\n",
    "  return drug_columns"
   ]
  },
  {
   "cell_type": "markdown",
   "id": "61816478",
   "metadata": {
    "pycharm": {
     "name": "#%% md\n"
    }
   },
   "source": [
    "## Load exisiting overview table"
   ]
  },
  {
   "cell_type": "code",
   "execution_count": null,
   "id": "48225361",
   "metadata": {
    "pycharm": {
     "name": "#%%\n"
    }
   },
   "outputs": [],
   "source": [
    "path = r\"Z:\\HiWi\\Popp\\TCGA_NSCLC_2022\\LUNG\\TCGA_LUNG_overview_table.csv\" # r\"Z:\\HiWi\\Popp\\TCGA_Breast_2022\\TCGA_BRCA_clinical.csv\" # \n",
    "df_overview = pd.read_csv(path, index_col=0)\n",
    "\n",
    "df_overview"
   ]
  },
  {
   "cell_type": "markdown",
   "id": "a49b73f7",
   "metadata": {
    "pycharm": {
     "name": "#%% md\n"
    }
   },
   "source": [
    "## Compare other clinical dataframe with therapy information"
   ]
  },
  {
   "cell_type": "code",
   "execution_count": null,
   "id": "9a67e073",
   "metadata": {
    "pycharm": {
     "name": "#%%\n"
    }
   },
   "outputs": [],
   "source": [
    "url = r\"Z:\\HiWi\\Popp\\TCGA_NSCLC_2022\\LUAD\\Clinic\\Select_Clinical_data_LUAD_firehose.xlsx\" # r'Z:\\HiWi\\Popp\\TCGA_NSCLC_2022\\LUAD\\Clinic\\gdac.broadinstitute.org_LUAD.Merge_Clinical.Level_1.2016012800.0.0\\LUAD.clin.merged.firehose.txt'\n",
    "df_med = pd.read_excel(url, header=5)\n",
    "\n",
    "df_med.set_index('patient.bcr_patient_barcode', inplace=True)\n",
    "df_med = df_med.T\n",
    "\n",
    "import pandas as pd; import numpy as np\n",
    "df_med = df_med.reset_index()\n",
    "import pandas as pd; import numpy as np\n",
    "# Step: Capitalize text in 'index'\n",
    "df_med['Sample_ID'] = df_med['index'].str.upper()\n",
    "df_med['Sample_ID'] = df_med['Sample_ID'] + '-01A'\n",
    "\n",
    "\n",
    "df_med"
   ]
  },
  {
   "cell_type": "code",
   "execution_count": null,
   "id": "3f941106",
   "metadata": {
    "pycharm": {
     "name": "#%%\n"
    }
   },
   "outputs": [],
   "source": [
    "drug_cols = get_drug_columns(df_med)"
   ]
  },
  {
   "cell_type": "code",
   "execution_count": null,
   "id": "04f5edb7",
   "metadata": {
    "pycharm": {
     "name": "#%%\n"
    }
   },
   "outputs": [],
   "source": [
    "df_med['drugs'] = df_med[drug_cols].apply(lambda row: ' '.join(row.values.astype(str)), axis=1)"
   ]
  },
  {
   "cell_type": "code",
   "execution_count": null,
   "id": "3b2e847b",
   "metadata": {
    "pycharm": {
     "name": "#%%\n"
    }
   },
   "outputs": [],
   "source": [
    "df_med['radiation_therapy_first'] = [1 if x == 'yes' else 0 for x in df_med['patient.radiation_therapy']]\n",
    "df_med['radiation_therapy_follow'] = [1 if x == 'yes' else 0 for x in df_med['patient.follow_ups.follow_up.radiation_therapy']]\n",
    "\n",
    "df_med['radiationtherapy'] = df_med['radiation_therapy_follow'] + df_med['radiation_therapy_first'] \n",
    "df_med['radiationtherapy'] = [0 if x == 0 else 1 for x in df_med['radiationtherapy']]"
   ]
  },
  {
   "cell_type": "code",
   "execution_count": null,
   "id": "aeaa1df9",
   "metadata": {
    "pycharm": {
     "name": "#%%\n"
    }
   },
   "outputs": [],
   "source": [
    "df_med['targeted_therapy_first'] = [1 if x == 'yes' else 0 for x in df_med['patient.targeted_molecular_therapy']]\n",
    "df_med['targeted_therapy_follow'] = [1 if x == 'yes' else 0 for x in df_med['patient.follow_ups.follow_up.targeted_molecular_therapy']]\n",
    "df_med['targeted_therapy_combo'] = [1 if 'targeted' in x else 0 for x in df_med['drugs']]\n",
    "\n",
    "\n",
    "df_med['targeted_therapy'] = df_med['targeted_therapy_first'] + df_med['targeted_therapy_follow'] + df_med['targeted_therapy_combo']\n",
    "df_med['targeted_therapy'] = [0 if x == 0 else 1 for x in df_med['targeted_therapy']]"
   ]
  },
  {
   "cell_type": "code",
   "execution_count": null,
   "id": "a24cc0de",
   "metadata": {
    "pycharm": {
     "name": "#%%\n"
    }
   },
   "outputs": [],
   "source": [
    "df_med['chemotherapy'] = [1 if 'chemotherapy' in x else 0 for x in df_med['drugs']]"
   ]
  },
  {
   "cell_type": "code",
   "execution_count": null,
   "id": "b332646a",
   "metadata": {
    "pycharm": {
     "name": "#%%\n"
    }
   },
   "outputs": [],
   "source": [
    "df_med['immunotherapy'] = [1 if 'immunotherapy' in x else 0 for x in df_med['drugs']]"
   ]
  },
  {
   "cell_type": "code",
   "execution_count": null,
   "id": "fdefd4d9",
   "metadata": {
    "pycharm": {
     "name": "#%%\n"
    }
   },
   "outputs": [],
   "source": [
    "import pandas as pd; import numpy as np\n",
    "# Step: Select columns\n",
    "df_therapy = df_med[['Sample_ID', 'immunotherapy', 'radiationtherapy', 'chemotherapy', 'targeted_therapy']]\n",
    "\n",
    "df_therapy"
   ]
  },
  {
   "cell_type": "markdown",
   "id": "35684fca",
   "metadata": {
    "pycharm": {
     "name": "#%% md\n"
    }
   },
   "source": [
    "## Fuse therapy to other overview"
   ]
  },
  {
   "cell_type": "code",
   "execution_count": null,
   "id": "6217843b",
   "metadata": {
    "pycharm": {
     "name": "#%%\n"
    }
   },
   "outputs": [],
   "source": [
    "df_overview.drop(['radiationtherapy', 'immunotherapy', 'chemotherapy', 'targeted_therapy'], axis=1, inplace=True)"
   ]
  },
  {
   "cell_type": "code",
   "execution_count": null,
   "id": "d2c6ac42",
   "metadata": {
    "pycharm": {
     "name": "#%%\n"
    }
   },
   "outputs": [],
   "source": [
    "combined_df = df_overview.merge(df_therapy, on='Sample_ID', how='left')\n",
    "#add surgery\n",
    "combined_df['surgical_therapy'] = 0\n",
    "combined_df.loc[combined_df['additional_surgery_locoregional_procedure'].str.contains('YES') | combined_df['additional_surgery_metastatic_procedure'].str.contains('YES'), 'surgical_therapy'] = 1\n",
    "#add radiation\n",
    "combined_df['add_radio'] = [1 if x == 'YES' else 0 for x in combined_df['additional_radiation_therapy']]\n",
    "combined_df['radiation_therapy'] = combined_df['radiationtherapy'] + combined_df['add_radio']\n",
    "combined_df['radiation_therapy'] = [0 if x == 0 else 1 for x in combined_df['radiation_therapy']]\n",
    "\n",
    "combined_df"
   ]
  },
  {
   "cell_type": "code",
   "execution_count": null,
   "id": "d822259f",
   "metadata": {
    "pycharm": {
     "name": "#%%\n"
    }
   },
   "outputs": [],
   "source": [
    "combined_df['Sum'] = combined_df[['surgical_therapy', 'immunotherapy', 'radiation_therapy', 'chemotherapy', 'targeted_therapy']].sum(axis=1)\n",
    "combined_df['therapy_classification'] = ['Mono_therapy' if x == 1 else 'Combination_therapy' if x > 1 else np.NaN for x in combined_df['Sum']]\n",
    "#set LUSC nan\n",
    "combined_df.loc[combined_df['disease_code'] == 'LUSC', ['Sum', 'therapy_classification']] = np.nan\n",
    "combined_df['therapy_classification'] "
   ]
  },
  {
   "cell_type": "markdown",
   "id": "22726b9f",
   "metadata": {
    "pycharm": {
     "name": "#%% md\n"
    }
   },
   "source": [
    "## add smoker"
   ]
  },
  {
   "cell_type": "code",
   "execution_count": null,
   "id": "2ca18939",
   "metadata": {
    "pycharm": {
     "name": "#%%\n"
    }
   },
   "outputs": [],
   "source": [
    "combined_df['non-smoker'] = [1 if x == 1 else 0 for x in combined_df['tobacco_smoking_history']]"
   ]
  },
  {
   "cell_type": "code",
   "execution_count": null,
   "id": "5c029b92",
   "metadata": {
    "pycharm": {
     "name": "#%%\n"
    }
   },
   "outputs": [],
   "source": [
    "#save back to overview table\n",
    "combined_df.to_csv(path)"
   ]
  },
  {
   "cell_type": "markdown",
   "id": "5a0e077f",
   "metadata": {
    "pycharm": {
     "name": "#%% md\n"
    }
   },
   "source": [
    "## add residual"
   ]
  },
  {
   "cell_type": "code",
   "execution_count": null,
   "id": "84a8041c",
   "metadata": {
    "pycharm": {
     "name": "#%%\n"
    }
   },
   "outputs": [],
   "source": [
    "import pandas as pd\n",
    "import bamboolib\n",
    "url = r'Z:\\HiWi\\Popp\\TCGA_NSCLC_2022\\LUAD\\Clinic\\gdac.broadinstitute.org_LUAD.Merge_Clinical.Level_1.2016012800.0.0\\LUAD.clin.merged.firehose.txt'\n",
    "df_med = pd.read_csv(url, sep = '\\t')\n",
    "df_med.set_index('admin.batch_number', inplace=True)\n",
    "df_med = df_med.T\n",
    "import pandas as pd; import numpy as np\n",
    "df_med = df_med.reset_index()\n",
    "# Step: Select columns\n",
    "df_res = df_med[['patient.residual_tumor', 'patient.bcr_patient_barcode']]\n",
    "df_res['Sample_ID'] = df_res['patient.bcr_patient_barcode'].str.upper()\n",
    "df_res['Sample_ID'] = df_res['Sample_ID'] + '-01A'\n",
    "\n",
    "df_res"
   ]
  },
  {
   "cell_type": "code",
   "execution_count": null,
   "id": "e8587fbb",
   "metadata": {
    "pycharm": {
     "name": "#%%\n"
    }
   },
   "outputs": [],
   "source": [
    "combined_df = combined_df.merge(df_res, on='Sample_ID', how='left')\n",
    "combined_df"
   ]
  },
  {
   "cell_type": "code",
   "execution_count": null,
   "id": "b252cb8a",
   "metadata": {
    "pycharm": {
     "name": "#%%\n"
    }
   },
   "outputs": [],
   "source": [
    "#save back to overview table\n",
    "combined_df.to_csv(path)"
   ]
  },
  {
   "cell_type": "code",
   "execution_count": null,
   "id": "cd27adfd",
   "metadata": {
    "pycharm": {
     "name": "#%%\n"
    }
   },
   "outputs": [],
   "source": []
  }
 ],
 "metadata": {
  "kernelspec": {
   "display_name": "Python 3 (ipykernel)",
   "language": "python",
   "name": "python3"
  },
  "language_info": {
   "codemirror_mode": {
    "name": "ipython",
    "version": 3
   },
   "file_extension": ".py",
   "mimetype": "text/x-python",
   "name": "python",
   "nbconvert_exporter": "python",
   "pygments_lexer": "ipython3",
   "version": "3.10.4"
  }
 },
 "nbformat": 4,
 "nbformat_minor": 5
}
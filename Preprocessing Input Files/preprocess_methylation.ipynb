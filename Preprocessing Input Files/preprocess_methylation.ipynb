{
 "cells": [
  {
   "cell_type": "code",
   "execution_count": null,
   "id": "d8dbd98b",
   "metadata": {
    "pycharm": {
     "name": "#%%\n"
    }
   },
   "outputs": [],
   "source": [
    "import pandas as pd\n",
    "import polars as pl"
   ]
  },
  {
   "cell_type": "markdown",
   "id": "0831cf17",
   "metadata": {
    "pycharm": {
     "name": "#%% md\n"
    }
   },
   "source": [
    "## LUAD"
   ]
  },
  {
   "cell_type": "code",
   "execution_count": null,
   "id": "1c280c3c",
   "metadata": {
    "pycharm": {
     "name": "#%%\n"
    }
   },
   "outputs": [],
   "source": [
    "#inspection for all data types\n",
    "url = r'Z:\\HiWi\\Popp\\TCGA_NSCLC_2022\\LUAD\\DNA_methylation\\TCGA-LUAD.methylation450.tsv' # r\"Z:\\HiWi\\Popp\\TCGA_Breast_2022\\TCGA-BRCA.methylation450.tsv\" # r'Z:\\HiWi\\Popp\\TCGA_NSCLC_2022\\LUAD\\DNA_methylation\\TCGA-LUAD.methylation450.tsv'\n",
    "df_LUAD = pl.read_csv(url, sep='\\t')\n",
    "#df_LUAD = pd.read_csv(url, sep='\\t')"
   ]
  },
  {
   "cell_type": "code",
   "execution_count": null,
   "id": "054c6a43",
   "metadata": {
    "pycharm": {
     "name": "#%%\n"
    }
   },
   "outputs": [],
   "source": [
    "#df_LUAD.dropna(how='all', axis=0, inplace=True) #drop patient\n",
    "df_LUAD = df_LUAD.drop_nulls()\n",
    "df_LUAD = df_LUAD.to_pandas()\n",
    "df_LUAD.set_index('Composite Element REF', inplace=True)\n",
    "df = df_LUAD\n",
    "df_LUAD"
   ]
  },
  {
   "cell_type": "markdown",
   "id": "67c419ff",
   "metadata": {
    "pycharm": {
     "name": "#%% md\n"
    }
   },
   "source": [
    "## LUSC"
   ]
  },
  {
   "cell_type": "code",
   "execution_count": null,
   "id": "ea8bafe6",
   "metadata": {
    "scrolled": true,
    "pycharm": {
     "name": "#%%\n"
    }
   },
   "outputs": [],
   "source": [
    "#inspection for all data types\n",
    "url = r'Z:\\HiWi\\Popp\\TCGA_NSCLC_2022\\LUSC\\DNA_methylation\\TCGA-LUSC.methylation450.tsv'\n",
    "df_LUSC = pd.read_csv(url, sep='\\t', index_col=0)\n",
    "df_LUSC.dropna(how='all', axis=0, inplace=True) #drop patient\n",
    "df_LUSC"
   ]
  },
  {
   "cell_type": "code",
   "execution_count": null,
   "id": "60d8b4b2",
   "metadata": {
    "pycharm": {
     "name": "#%%\n"
    }
   },
   "outputs": [],
   "source": [
    "#combine LUAD and LUSC\n",
    "if list(df_LUAD.index) == list(df_LUSC.index): #if same order\n",
    "    df = pd.concat([df_LUAD, df_LUSC], axis = 1) \n",
    "df"
   ]
  },
  {
   "cell_type": "code",
   "execution_count": null,
   "id": "8a48c2a4",
   "metadata": {
    "pycharm": {
     "name": "#%%\n"
    }
   },
   "outputs": [],
   "source": [
    "df.dropna(how='all', axis=0, inplace=True)\n",
    "df.dropna(how='all', axis=1, inplace=True)\n",
    "print(df.shape)"
   ]
  },
  {
   "cell_type": "markdown",
   "id": "fe78e74a",
   "metadata": {
    "pycharm": {
     "name": "#%% md\n"
    }
   },
   "source": [
    "## Kick controls and problem probes"
   ]
  },
  {
   "cell_type": "code",
   "execution_count": null,
   "id": "376908aa",
   "metadata": {
    "scrolled": true,
    "pycharm": {
     "name": "#%%\n"
    }
   },
   "outputs": [],
   "source": [
    "import methylcheck\n",
    "from pathlib import Path\n",
    "#filepath = Path('/Users/patriciagirardi/tutorial/GPL21145')\n",
    "#df = methylcheck.load(filepath, format='beta_csv')"
   ]
  },
  {
   "cell_type": "code",
   "execution_count": null,
   "id": "57b97239",
   "metadata": {
    "pycharm": {
     "name": "#%%\n"
    }
   },
   "outputs": [],
   "source": [
    "# this code will print the criteria reason (either a publication or a type of issue, like Polymorphism)\n",
    "# as well as the number of probes excluded for that reason \n",
    "\n",
    "criteria = ['Chen2013', 'Price2013', 'Naeem2014', 'DacaRoszak2015','Polymorphism',\n",
    "             'CrossHybridization', 'BaseColorChange', 'RepeatSequenceElements']\n",
    "\n",
    "print('450k probe exclusion criteria and number of probes excluded:')\n",
    "for crit in criteria:\n",
    "    print(crit, '--', len(methylcheck.list_problem_probes('450k', [crit])))"
   ]
  },
  {
   "cell_type": "code",
   "execution_count": null,
   "id": "fb4cbeda",
   "metadata": {
    "scrolled": true,
    "pycharm": {
     "name": "#%%\n"
    }
   },
   "outputs": [],
   "source": [
    "# leave criteria undefined to list all problem probes for that array type\n",
    "sketchy_probes_list = methylcheck.list_problem_probes(criteria=criteria, array='450k')"
   ]
  },
  {
   "cell_type": "code",
   "execution_count": null,
   "id": "ca50f420",
   "metadata": {
    "pycharm": {
     "name": "#%%\n"
    }
   },
   "outputs": [],
   "source": [
    "df_filtered = df.loc[~ df.index.isin(sketchy_probes_list)]\n",
    "df_filtered"
   ]
  },
  {
   "cell_type": "code",
   "execution_count": null,
   "id": "0e8f0500",
   "metadata": {
    "pycharm": {
     "name": "#%%\n"
    }
   },
   "outputs": [],
   "source": [
    "df_filtered = methylcheck.exclude_sex_control_probes(df_filtered, '450k', no_sex=True, no_control=True, verbose=True)\n",
    "df_filtered"
   ]
  },
  {
   "cell_type": "code",
   "execution_count": null,
   "id": "012e9d92",
   "metadata": {
    "pycharm": {
     "name": "#%%\n"
    }
   },
   "outputs": [],
   "source": [
    "methylcheck.mean_beta_compare(df, df_filtered, verbose=True)"
   ]
  },
  {
   "cell_type": "markdown",
   "id": "b437369f",
   "metadata": {
    "pycharm": {
     "name": "#%% md\n"
    }
   },
   "source": [
    "## Nan handling"
   ]
  },
  {
   "cell_type": "code",
   "execution_count": null,
   "id": "f64c8c97",
   "metadata": {
    "pycharm": {
     "name": "#%%\n"
    }
   },
   "outputs": [],
   "source": [
    "df = df_filtered"
   ]
  },
  {
   "cell_type": "code",
   "execution_count": null,
   "id": "2e3e63e7",
   "metadata": {
    "pycharm": {
     "name": "#%%\n"
    }
   },
   "outputs": [],
   "source": [
    "df.isna().any(), df.columns[df.isna().any()].tolist()"
   ]
  },
  {
   "cell_type": "code",
   "execution_count": null,
   "id": "43f990cc",
   "metadata": {
    "pycharm": {
     "name": "#%%\n"
    }
   },
   "outputs": [],
   "source": [
    "#from sklearn.impute import KNNImputer\n",
    "#imputer = KNNImputer(n_neighbors=2, weights=\"uniform\")\n",
    "#matrix = imputer.fit_transform(df.values)\n",
    "#df = pd.DataFrame(matrix, columns = df.columns, index = df.index)"
   ]
  },
  {
   "cell_type": "code",
   "execution_count": null,
   "id": "362e9633",
   "metadata": {
    "pycharm": {
     "name": "#%%\n"
    }
   },
   "outputs": [],
   "source": [
    "from sklearn.impute import SimpleImputer\n",
    "import numpy as np\n",
    "df = df.T #transpose as mean for col is calc\n",
    "imputer = SimpleImputer(missing_values=np.NaN, strategy='mean') #mean for col\n",
    "matrix = imputer.fit_transform(df.values)\n",
    "df = pd.DataFrame(matrix, columns = df.columns, index = df.index)\n",
    "df = df.T\n",
    "df"
   ]
  },
  {
   "cell_type": "markdown",
   "id": "9d9702c3",
   "metadata": {
    "pycharm": {
     "name": "#%% md\n"
    }
   },
   "source": [
    "## Kick low diff"
   ]
  },
  {
   "cell_type": "code",
   "execution_count": null,
   "id": "546c6c7d",
   "metadata": {
    "pycharm": {
     "name": "#%%\n"
    }
   },
   "outputs": [],
   "source": [
    "# kick low median deviation\n",
    "from scipy.stats import median_abs_deviation\n",
    "\n",
    "df = df.T\n",
    "#for each row get median deviation\n",
    "devs = []\n",
    "for column in list(df.columns):\n",
    "    col = df[column]\n",
    "    devs.append(median_abs_deviation(col.values))\n",
    "df.loc[len(df)] = devs\n",
    "\n",
    "#sort and take top 10000 from 350000\n",
    "devs.sort(reverse = True)\n",
    "threshold_devs = devs[10000]\n",
    "pd.Series(devs).hist()"
   ]
  },
  {
   "cell_type": "code",
   "execution_count": null,
   "id": "cf8b3e47",
   "metadata": {
    "pycharm": {
     "name": "#%%\n"
    }
   },
   "outputs": [],
   "source": [
    "#filter for threshold\n",
    "import numpy as np\n",
    "mask = df.iloc[-1] > threshold_devs\n",
    "keep = np.where(mask)[0]\n",
    "df = df.iloc[:-1,keep.tolist()] #subset & kick last row\n",
    "\n",
    "df"
   ]
  },
  {
   "cell_type": "code",
   "execution_count": null,
   "id": "f4d2c93c",
   "metadata": {
    "pycharm": {
     "name": "#%%\n"
    }
   },
   "outputs": [],
   "source": [
    "df.reset_index(inplace = True)\n",
    "df.rename(columns = {'index':'Sample_ID'}, inplace = True)\n",
    "df"
   ]
  },
  {
   "cell_type": "code",
   "execution_count": null,
   "id": "e0105329",
   "metadata": {
    "pycharm": {
     "name": "#%%\n"
    }
   },
   "outputs": [],
   "source": [
    "#df.to_csv('Z:\\HiWi\\Popp\\TCGA_Breast_2022\\TCGA_BRCA_Methylation_450.csv')\n",
    "df.to_csv('Z:\\HiWi\\Popp\\TCGA_NSCLC_2022\\LUNG\\TCGA_LUNG_Methylation_450.csv')\n",
    "#df.to_csv(\"Z:\\HiWi\\Popp\\TCGA_NSCLC_2022\\LUAD\\DNA_methylation\\TCGA_LUAD_Methylation_450.csv\")"
   ]
  },
  {
   "cell_type": "markdown",
   "id": "6f76172d",
   "metadata": {
    "pycharm": {
     "name": "#%% md\n"
    }
   },
   "source": [
    "## Alternative: Mapping to gene names and chr info"
   ]
  },
  {
   "cell_type": "code",
   "execution_count": null,
   "id": "a40df35b",
   "metadata": {
    "pycharm": {
     "name": "#%%\n"
    }
   },
   "outputs": [],
   "source": [
    "url = r'Z:\\HiWi\\Popp\\TCGA_NSCLC_2022\\LUAD\\DNA_methylation\\illuminaMethyl450_hg38_GDC'\n",
    "df_mapping = pd.read_csv(url, sep='\\t', index_col=0)\n",
    "df_mapping"
   ]
  },
  {
   "cell_type": "code",
   "execution_count": null,
   "id": "f3a16ff6",
   "metadata": {
    "scrolled": false,
    "pycharm": {
     "name": "#%%\n"
    }
   },
   "outputs": [],
   "source": [
    "df_merge = pd.merge(df, df_mapping, how='left', left_on='Composite Element REF', right_on='#id')\n",
    "mask = (df_merge.gene.str.len() > 2) # kick dots and nans df_merge['gene'].isnull().any()\n",
    "df_merge = df_merge.loc[mask]"
   ]
  },
  {
   "cell_type": "code",
   "execution_count": null,
   "id": "1e3615b3",
   "metadata": {
    "pycharm": {
     "name": "#%%\n"
    }
   },
   "outputs": [],
   "source": [
    "#extract one gene name from many\n",
    "df_merge.gene = df_merge.gene.map(lambda x: x.split(',')[-1])"
   ]
  },
  {
   "cell_type": "code",
   "execution_count": null,
   "id": "1183feb9",
   "metadata": {
    "pycharm": {
     "name": "#%%\n"
    }
   },
   "outputs": [],
   "source": [
    "df_merge.set_index('gene', inplace=True)\n",
    "df_merge = df_merge.iloc[:,:-4]\n",
    "df_merge"
   ]
  },
  {
   "cell_type": "code",
   "execution_count": null,
   "id": "9a30651a",
   "metadata": {
    "pycharm": {
     "name": "#%%\n"
    }
   },
   "outputs": [],
   "source": [
    "#merge duplicate genes from extraction process\n",
    "df_merge.sort_index(inplace=True)\n",
    "df_merge = df_merge.groupby(df_merge.index).mean()"
   ]
  },
  {
   "cell_type": "code",
   "execution_count": null,
   "id": "05271aed",
   "metadata": {
    "pycharm": {
     "name": "#%%\n"
    }
   },
   "outputs": [],
   "source": [
    "df_merge = df_merge.T\n",
    "df_merge = df_merge.reset_index()\n",
    "df_merge.rename(columns = {'index':'Sample_ID'}, inplace = True)\n",
    "print(df_merge.shape)\n",
    "df_merge.dropna(how = 'all', axis=1, inplace=True) #dopped col if any is missing\n",
    "df_merge.dropna(how = 'all', axis=0, inplace=True) #dopped col if any is missing\n",
    "print(df_merge.shape)\n",
    "df_merge"
   ]
  },
  {
   "cell_type": "code",
   "execution_count": null,
   "id": "c686d132",
   "metadata": {
    "pycharm": {
     "name": "#%%\n"
    }
   },
   "outputs": [],
   "source": [
    "df_merge.to_csv('Z:\\HiWi\\Popp\\TCGA_NSCLC_2022\\LUAD\\DNA_methylation\\TCGA_LUAD_Methylation_450.csv')"
   ]
  },
  {
   "cell_type": "code",
   "execution_count": null,
   "id": "52685195",
   "metadata": {
    "pycharm": {
     "name": "#%%\n"
    }
   },
   "outputs": [],
   "source": [
    "# (9903 matchen df_prot_gene_mapping von 21169 gene names) --> need check!"
   ]
  }
 ],
 "metadata": {
  "kernelspec": {
   "display_name": "Python 3 (ipykernel)",
   "language": "python",
   "name": "python3"
  },
  "language_info": {
   "codemirror_mode": {
    "name": "ipython",
    "version": 3
   },
   "file_extension": ".py",
   "mimetype": "text/x-python",
   "name": "python",
   "nbconvert_exporter": "python",
   "pygments_lexer": "ipython3",
   "version": "3.10.4"
  }
 },
 "nbformat": 4,
 "nbformat_minor": 5
}
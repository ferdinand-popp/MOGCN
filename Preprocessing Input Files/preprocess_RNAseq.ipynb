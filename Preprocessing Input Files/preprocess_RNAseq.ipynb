{
 "cells": [
  {
   "cell_type": "markdown",
   "id": "74ac5499",
   "metadata": {
    "pycharm": {
     "name": "#%% md\n"
    }
   },
   "source": [
    "## Prep for LUAD LUSC and Combined LUNG"
   ]
  },
  {
   "cell_type": "code",
   "execution_count": null,
   "id": "c3ceb4fa",
   "metadata": {
    "pycharm": {
     "name": "#%%\n"
    }
   },
   "outputs": [],
   "source": [
    "import pandas as pd\n",
    "from pandas_profiling import ProfileReport\n",
    "from sklearn.preprocessing import MinMaxScaler"
   ]
  },
  {
   "cell_type": "markdown",
   "id": "f85d23fc",
   "metadata": {
    "pycharm": {
     "name": "#%% md\n"
    }
   },
   "source": [
    "## LUAD"
   ]
  },
  {
   "cell_type": "code",
   "execution_count": null,
   "id": "6107cb45",
   "metadata": {
    "pycharm": {
     "name": "#%%\n"
    }
   },
   "outputs": [],
   "source": [
    "url = r'Z:\\HiWi\\Popp\\TCGA_NSCLC_2022\\LUAD\\RNAseq\\TCGA-LUAD.htseq_fpkm.tsv' # r\"Z:\\HiWi\\Popp\\TCGA_Breast_2022\\TCGA-BRCA.htseq_fpkm.tsv\" # \n",
    "df_LUAD = pd.read_csv(url, sep='\\t', index_col=0)\n",
    "df_LUAD = df_LUAD.T\n",
    "df_LUAD = df_LUAD.reset_index()\n",
    "df_LUAD.rename(columns = {'index':'Sample_ID'}, inplace = True)\n",
    "df_LUAD.dropna(how='all', axis=1, inplace=True) # drop patients\n",
    "df_LUAD.set_index('Sample_ID', inplace = True)\n",
    "#check double samples if present\n",
    "print(df_LUAD.index.is_unique)\n",
    "df = df_LUAD\n",
    "df_LUAD"
   ]
  },
  {
   "cell_type": "markdown",
   "id": "4cb30949",
   "metadata": {
    "pycharm": {
     "name": "#%% md\n"
    }
   },
   "source": [
    "## LUSC"
   ]
  },
  {
   "cell_type": "code",
   "execution_count": null,
   "id": "3a057a29",
   "metadata": {
    "pycharm": {
     "name": "#%%\n"
    }
   },
   "outputs": [],
   "source": [
    "url = r'Z:\\HiWi\\Popp\\TCGA_NSCLC_2022\\LUSC\\RNAseq\\TCGA-LUSC.htseq_fpkm.tsv'\n",
    "df_LUSC = pd.read_csv(url, sep='\\t', index_col=0)\n",
    "df_LUSC = df_LUSC.T\n",
    "df_LUSC = df_LUSC.reset_index()\n",
    "df_LUSC.rename(columns = {'index':'Sample_ID'}, inplace = True)\n",
    "df_LUSC.dropna(how='all', axis=1, inplace=True) # drop patients\n",
    "df_LUSC.set_index('Sample_ID', inplace = True)\n",
    "#check double samples if present\n",
    "print(df_LUSC.index.is_unique)\n",
    "df_LUSC"
   ]
  },
  {
   "cell_type": "code",
   "execution_count": null,
   "id": "e77ed98a",
   "metadata": {
    "pycharm": {
     "name": "#%%\n"
    }
   },
   "outputs": [],
   "source": [
    "#combine datasets\n",
    "if list(df_LUAD.columns) == list(df_LUSC.columns): #if same order\n",
    "    df = pd.concat([df_LUAD, df_LUSC]) \n",
    "df"
   ]
  },
  {
   "cell_type": "code",
   "execution_count": null,
   "id": "5b1e20a1",
   "metadata": {
    "pycharm": {
     "name": "#%%\n"
    }
   },
   "outputs": [],
   "source": [
    "#remove gene cols sum = 0\n",
    "df = df.loc[:, (df.sum(axis=0) != 0)]\n",
    "#remove double samples if present\n",
    "assert df.index.is_unique, \"Check Dataframe\"\n",
    "df"
   ]
  },
  {
   "cell_type": "code",
   "execution_count": null,
   "id": "58232fdd",
   "metadata": {
    "pycharm": {
     "name": "#%%\n"
    }
   },
   "outputs": [],
   "source": [
    "#remove in <5% of population --> kicked  nearly half!!\n",
    "mask = []\n",
    "threshold = df.shape[0] * 0.05 #5%\n",
    "for column in df.iloc[:,:]:\n",
    "    col = df[column]\n",
    "    if col.where(col > 0).sum() > threshold:\n",
    "        mask.append(col.name)\n",
    "df = df[mask]\n",
    "df"
   ]
  },
  {
   "cell_type": "code",
   "execution_count": null,
   "id": "15620010",
   "metadata": {
    "scrolled": true,
    "pycharm": {
     "name": "#%%\n"
    }
   },
   "outputs": [],
   "source": [
    "# kick low median deviation\n",
    "from scipy.stats import median_abs_deviation\n",
    "\n",
    "#for each col get median deviation\n",
    "devs = []\n",
    "for column in list(df.columns):\n",
    "    col = df[column]\n",
    "    devs.append(median_abs_deviation(col.values))\n",
    "df.loc[len(df)] = devs\n",
    "\n",
    "#sort and take top 10000 from 35000\n",
    "devs.sort(reverse = True)\n",
    "threshold_devs = devs[10000]"
   ]
  },
  {
   "cell_type": "code",
   "execution_count": null,
   "id": "7faba00d",
   "metadata": {
    "pycharm": {
     "name": "#%%\n"
    }
   },
   "outputs": [],
   "source": [
    "pd.Series(devs).hist()"
   ]
  },
  {
   "cell_type": "code",
   "execution_count": null,
   "id": "79c63a8b",
   "metadata": {
    "pycharm": {
     "name": "#%%\n"
    }
   },
   "outputs": [],
   "source": [
    "#filter for threshold\n",
    "import numpy as np\n",
    "mask = df.iloc[-1] > threshold_devs\n",
    "keep = np.where(mask)[0]\n",
    "df = df.iloc[:-1,keep.tolist()] #subset & kick last row\n",
    "\n",
    "df"
   ]
  },
  {
   "cell_type": "code",
   "execution_count": null,
   "id": "2534932b",
   "metadata": {
    "pycharm": {
     "name": "#%%\n"
    }
   },
   "outputs": [],
   "source": [
    "#scale 0-1\n",
    "df = pd.DataFrame(MinMaxScaler().fit_transform(df), columns=df.columns, index= df.index)\n",
    "df"
   ]
  },
  {
   "cell_type": "code",
   "execution_count": null,
   "id": "a1fe9eff",
   "metadata": {
    "pycharm": {
     "name": "#%%\n"
    }
   },
   "outputs": [],
   "source": [
    "#reset index to Sample_ID\n",
    "df.reset_index(inplace=True)"
   ]
  },
  {
   "cell_type": "code",
   "execution_count": null,
   "id": "5ce31577",
   "metadata": {
    "scrolled": true,
    "pycharm": {
     "name": "#%%\n"
    }
   },
   "outputs": [],
   "source": [
    "#df.to_csv('Z:\\HiWi\\Popp\\TCGA_Breast_2022\\TCGA_BRCA_RNA_seq.csv')\n",
    "#df.to_csv('Z:\\HiWi\\Popp\\TCGA_NSCLC_2022\\LUNG\\LUNG_RNA_seq.csv')\n",
    "#df.to_csv('Z:\\HiWi\\Popp\\TCGA_NSCLC_2022\\LUNG\\LUNG_RNA_seq_all.csv')\n",
    "#df.to_csv(\"Z:\\HiWi\\Popp\\TCGA_NSCLC_2022\\LUAD\\RNAseq\\LUAD_RNA_seq_36000_unscaled.csv\")\n",
    "df.to_csv(\"Z:\\HiWi\\Popp\\TCGA_NSCLC_2022\\LUAD\\RNAseq\\LUAD_RNA_seq.csv\")"
   ]
  },
  {
   "cell_type": "code",
   "execution_count": null,
   "id": "0eb73d96",
   "metadata": {
    "pycharm": {
     "name": "#%%\n"
    }
   },
   "outputs": [],
   "source": []
  }
 ],
 "metadata": {
  "kernelspec": {
   "display_name": "Python 3 (ipykernel)",
   "language": "python",
   "name": "python3"
  },
  "language_info": {
   "codemirror_mode": {
    "name": "ipython",
    "version": 3
   },
   "file_extension": ".py",
   "mimetype": "text/x-python",
   "name": "python",
   "nbconvert_exporter": "python",
   "pygments_lexer": "ipython3",
   "version": "3.10.4"
  }
 },
 "nbformat": 4,
 "nbformat_minor": 5
}
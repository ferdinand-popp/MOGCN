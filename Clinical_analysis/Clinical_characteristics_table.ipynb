{
 "cells": [
  {
   "cell_type": "code",
   "execution_count": null,
   "id": "8bf4ef4f",
   "metadata": {
    "pycharm": {
     "name": "#%%\n"
    }
   },
   "outputs": [],
   "source": [
    "import pandas as pd\n",
    "import os"
   ]
  },
  {
   "cell_type": "code",
   "execution_count": null,
   "id": "38fcf7bd",
   "metadata": {
    "pycharm": {
     "name": "#%%\n"
    }
   },
   "outputs": [],
   "source": [
    "# load labels\n",
    "path = r'D:\\FPOPP\\MoGCN\\result\\galant_sweep_14\\labels.csv'\n",
    "folder = os.path.dirname(path)\n",
    "df_labels = pd.read_csv(path, index_col=1)\n",
    "df_labels = df_labels[['Sample_ID', 'Labels']]\n",
    "if 0 in df_labels['Labels']:\n",
    "    df_labels['Labels'] = df_labels['Labels'] + 1"
   ]
  },
  {
   "cell_type": "code",
   "execution_count": null,
   "id": "091ae6c9",
   "metadata": {
    "pycharm": {
     "name": "#%%\n"
    }
   },
   "outputs": [],
   "source": [
    "# Load the data\n",
    "df_overview = pd.read_csv(r\"Z:\\HiWi\\Popp\\TCGA_NSCLC_2022\\LUNG\\TCGA_LUNG_overview_table.csv\", index_col=1)\n",
    "\n",
    "df_merge = df_labels.merge(df_overview, on='Sample_ID', how='left')\n",
    "df_merge"
   ]
  },
  {
   "cell_type": "code",
   "execution_count": null,
   "id": "d6f7b162",
   "metadata": {
    "pycharm": {
     "name": "#%%\n"
    }
   },
   "outputs": [],
   "source": [
    "df_append = pd.read_csv(r\"Z:\\HiWi\\Popp\\TCGA_NSCLC_2022\\LUAD\\Clinic\\TCGA_LUAD_clinical_input_features.csv\", index_col=1)\n",
    "df_append.reset_index(inplace=True)\n",
    "df_append"
   ]
  },
  {
   "cell_type": "code",
   "execution_count": null,
   "id": "656a43e5",
   "metadata": {
    "pycharm": {
     "name": "#%%\n"
    }
   },
   "outputs": [],
   "source": [
    "df_group = df_merge.groupby('Labels')\n",
    "# Loop through each group and plot the scatter plot\n",
    "for name, df_sub in df_group:\n",
    "    if name == 'III':\n",
    "        df_subs = df_sub\n",
    "        "
   ]
  },
  {
   "cell_type": "code",
   "execution_count": null,
   "id": "97e2445b",
   "metadata": {
    "pycharm": {
     "name": "#%%\n"
    }
   },
   "outputs": [],
   "source": [
    "import pandas as pd; import numpy as np\n",
    "# Step: Select columns\n",
    "df_subs = df_merge[['patient.residual_tumor']]\n",
    "\n",
    "df_subs"
   ]
  },
  {
   "cell_type": "code",
   "execution_count": null,
   "id": "17fbfc24",
   "metadata": {
    "pycharm": {
     "name": "#%%\n"
    }
   },
   "outputs": [],
   "source": [
    "df_subs = df_subs[['age_at_initial_pathologic_diagnosis', 'gender.demographic', 'prior_malignancy.diagnoses', 'non-smoker', 'therapy_classification', 'pathologic_M', 'pathologic_N', 'pathologic_T', 'tumor_stage.diagnoses', 'Methylation', 'Protein_Array']]\n",
    "df_subs"
   ]
  },
  {
   "cell_type": "code",
   "execution_count": null,
   "id": "990d4162",
   "metadata": {
    "scrolled": true,
    "pycharm": {
     "name": "#%%\n"
    }
   },
   "outputs": [],
   "source": [
    "import pandas as pd; import numpy as np\n",
    "# Step: Select columns\n",
    "df_subs = df_merge[['age_at_initial_pathologic_diagnosis', 'gender.demographic', 'prior_malignancy.diagnoses', 'non-smoker', 'therapy_classification', 'pathologic_M', 'pathologic_N', 'pathologic_T', 'tumor_stage.diagnoses', 'Methylation', 'Protein_Array']]\n",
    "\n",
    "df_subs"
   ]
  },
  {
   "cell_type": "code",
   "execution_count": null,
   "id": "37226cd9",
   "metadata": {
    "pycharm": {
     "name": "#%%\n"
    }
   },
   "outputs": [],
   "source": [
    "df_subs[\"tumor_stage.diagnoses\"].value_counts()\n"
   ]
  },
  {
   "cell_type": "code",
   "execution_count": null,
   "id": "1dcb47fc",
   "metadata": {
    "pycharm": {
     "name": "#%%\n"
    }
   },
   "outputs": [],
   "source": []
  }
 ],
 "metadata": {
  "kernelspec": {
   "display_name": "Python 3 (ipykernel)",
   "language": "python",
   "name": "python3"
  },
  "language_info": {
   "codemirror_mode": {
    "name": "ipython",
    "version": 3
   },
   "file_extension": ".py",
   "mimetype": "text/x-python",
   "name": "python",
   "nbconvert_exporter": "python",
   "pygments_lexer": "ipython3",
   "version": "3.10.4"
  }
 },
 "nbformat": 4,
 "nbformat_minor": 5
}
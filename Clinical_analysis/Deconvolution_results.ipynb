{
 "cells": [
  {
   "cell_type": "code",
   "execution_count": null,
   "id": "31b7952d",
   "metadata": {
    "pycharm": {
     "name": "#%%\n"
    }
   },
   "outputs": [],
   "source": [
    "import plotly.graph_objects as go\n",
    "import pandas as pd\n",
    "import os\n",
    "import plotly.io as pio"
   ]
  },
  {
   "cell_type": "markdown",
   "id": "d6ec47e3",
   "metadata": {
    "pycharm": {
     "name": "#%% md\n"
    }
   },
   "source": [
    "## Analyze Cibersort"
   ]
  },
  {
   "cell_type": "code",
   "execution_count": null,
   "id": "b4f9c467",
   "metadata": {
    "pycharm": {
     "name": "#%%\n"
    }
   },
   "outputs": [],
   "source": [
    "pio.templates.default = \"simple_white\"\n",
    "\n",
    "path = 'sweeps/Cibersort/0.csv'\n",
    "folder_sub = os.path.dirname(path)\n",
    "num = 3\n",
    "\n",
    "df_ciber = pd.DataFrame()\n",
    "for i in range(num):\n",
    "    print(i)\n",
    "    df = pd.read_csv(os.path.join(folder_sub, f\"{i}.csv\"), index_col='Mixture')\n",
    "    df_mean = df.mean(axis=0)\n",
    "    df_ciber[i] = df_mean"
   ]
  },
  {
   "cell_type": "code",
   "execution_count": null,
   "id": "8d934b02",
   "metadata": {
    "pycharm": {
     "name": "#%%\n"
    }
   },
   "outputs": [],
   "source": [
    "df = df_ciber.T\n",
    "import pandas as pd; import numpy as np\n",
    "df = df.reset_index()\n",
    "df.columns = [str(column) for column in df.columns]\n",
    "import pandas as pd; import numpy as np\n",
    "# Step: Create new column 'T cell CD8 +' from formula 'T cells CD8'\n",
    "df['T cell CD8+'] = df['T cells CD8']\n",
    "\n",
    "# Step: Create new column 'T cell CD4+' from formula 'T cells CD4 naive + T cells CD4 memory resting + T cells CD4 memory activated'\n",
    "df['T cell CD4+'] = df['T cells CD4 naive'] + df['T cells CD4 memory resting'] + df['T cells CD4 memory activated']\n",
    "\n",
    "# Step: Create new column 'Macrophage' from formula 'Macrophages M0 + Macrophages M1 + Macrophages M0'\n",
    "df['Macrophage'] = df['Macrophages M0'] + df['Macrophages M1'] + df['Macrophages M0']\n",
    "\n",
    "# Step: Create new column 'Neutrophil' from formula 'Neutrophils'\n",
    "df['Neutrophil'] = df['Neutrophils']\n",
    "\n",
    "# Step: Create new column 'NK cell' from formula 'NK cells resting + NK cells activated'\n",
    "df['NK cell'] = df['NK cells resting'] + df['NK cells activated']\n",
    "\n",
    "# Step: Create new column 'B cell' from formula 'B cells naive + B cells memory'\n",
    "df['B cell'] = df['B cells naive'] + df['B cells memory']\n",
    "\n",
    "# Step: Create new column 'mDC' from formula 'Dendritic cells resting + Dendritic cells activated'\n",
    "df['mDC'] = df['Dendritic cells resting'] + df['Dendritic cells activated']\n",
    "\n",
    "# Step: Create new column 'Monocyte' from formula 'Monocytes'\n",
    "df['Monocyte'] = df['Monocytes']\n",
    "\n",
    "df['other'] = df['T cells follicular helper'] + df['T cells regulatory (Tregs)'] + df['T cells gamma delta'] + df['Mast cells activated'] + df['Mast cells resting'] + df['Eosinophils'] + df['Plasma cells']\n",
    "\n",
    "import pandas as pd; import numpy as np\n",
    "# Step: Rename column\n",
    "df = df.rename(columns={'index': 'Cluster'})\n",
    "\n",
    "# Step: Select columns\n",
    "df_cibersort_final = df[['Cluster', 'T cell CD8+', 'T cell CD4+', 'Macrophage', 'Neutrophil', 'mDC', 'Monocyte', 'NK cell', 'B cell', 'other']]\n",
    "df_cibersort_final.set_index('Cluster', inplace=True)\n",
    "\n",
    "import pandas as pd; import numpy as np\n",
    "df_cibersort_final = df_cibersort_final.reset_index()\n",
    "df_cibersort_final"
   ]
  },
  {
   "cell_type": "markdown",
   "id": "2f0a768f",
   "metadata": {
    "pycharm": {
     "name": "#%% md\n"
    }
   },
   "source": [
    "## Analyze EPIC"
   ]
  },
  {
   "cell_type": "code",
   "execution_count": null,
   "id": "a3871c27",
   "metadata": {
    "pycharm": {
     "name": "#%%\n"
    }
   },
   "outputs": [],
   "source": [
    "\n",
    "pio.templates.default = \"simple_white\"\n",
    "\n",
    "# run = wandb.init(project=f\"Cluster_analysis\", notes='setup')\n",
    "\n",
    "# EPIC\n",
    "path = 'sweeps/EPIC/EPIC_results_0.txt'\n",
    "folder = os.path.dirname(path)\n",
    "num = 3\n",
    "df_epic = pd.DataFrame()\n",
    "for i in range(num):\n",
    "    print(i)\n",
    "    df = pd.read_csv(os.path.join(folder, f\"EPIC_results_{i}.txt\"), sep=\"\\t\", skiprows=5, index_col='sampleID')\n",
    "    df_mean = df.mean(axis=0)\n",
    "    df_epic[i] = df_mean"
   ]
  },
  {
   "cell_type": "code",
   "execution_count": null,
   "id": "99be2c98",
   "metadata": {
    "pycharm": {
     "name": "#%%\n"
    }
   },
   "outputs": [],
   "source": [
    "df =df_epic.T\n",
    "df = df.reset_index()\n",
    "df.columns = [str(column) for column in df.columns]\n",
    "# Step: Create new column 'T cell CD8+' from formula 'CD8_Tcells'\n",
    "df['T cell CD8+'] = df['CD8_Tcells']\n",
    "\n",
    "# Step: Create new column 'T cell CD4+' from formula 'CD4_Tcells'\n",
    "df['T cell CD4+'] = df['CD4_Tcells']\n",
    "\n",
    "# Step: Create new column 'Macrophage' from formula 'Macrophages'\n",
    "df['Macrophage'] = df['Macrophages']\n",
    "\n",
    "# Step: Create new column 'B cell' from formula 'Bcells'\n",
    "df['B cell'] = df['Bcells']\n",
    "\n",
    "# Step: Create new column 'NK cell' from formula 'NKcells'\n",
    "df['NK cell'] = df['NKcells']\n",
    "\n",
    "#add other cells\n",
    "df['Neutrophil'] = 0\n",
    "df['Monocyte'] = 0\n",
    "df['mDC'] = 0\n",
    "\n",
    "# Step: Create new column 'other' from formula 'CAFs + Endothelial + otherCells'\n",
    "df['other'] = df['CAFs'] + df['Endothelial'] + df['otherCells']\n",
    "\n",
    "# Step: Rename column\n",
    "df = df.rename(columns={'index': 'Cluster'})\n",
    "\n",
    "import pandas as pd; import numpy as np\n",
    "# Step: Select columns\n",
    "df_epic_final = df[['Cluster', 'T cell CD8+', 'T cell CD4+', 'Macrophage', 'Neutrophil', 'mDC', 'Monocyte', 'NK cell', 'B cell', 'other']]\n",
    "df_epic_final.set_index('Cluster', inplace=True)\n",
    "\n",
    "\n",
    "import pandas as pd; import numpy as np\n",
    "df_epic_final = df_epic_final.reset_index()\n",
    "df_epic_final"
   ]
  },
  {
   "cell_type": "markdown",
   "id": "554ebf19",
   "metadata": {
    "pycharm": {
     "name": "#%% md\n"
    }
   },
   "source": [
    "## Plot for both"
   ]
  },
  {
   "cell_type": "code",
   "execution_count": null,
   "id": "48e7b104",
   "metadata": {
    "pycharm": {
     "name": "#%%\n"
    }
   },
   "outputs": [],
   "source": [
    "color_map = {\n",
    "    'T cell CD8+': 'red',\n",
    "    'T cell CD4+': 'blue',\n",
    "    'Macrophage': 'green',\n",
    "    'Neutrophil': 'purple',\n",
    "    'mDC': 'orange',\n",
    "    'Monocyte': 'yellow',\n",
    "    'NK cell': 'brown',\n",
    "    'B cell': 'pink',\n",
    "    'other': 'grey'}"
   ]
  },
  {
   "cell_type": "code",
   "execution_count": null,
   "id": "ac56846c",
   "metadata": {
    "scrolled": true,
    "pycharm": {
     "name": "#%%\n"
    }
   },
   "outputs": [],
   "source": [
    "df = df_epic_final.set_index('Cluster')\n",
    "df = df.T\n",
    "\n",
    "df.columns = ['I', 'II', 'III']\n",
    "df.to_csv(os.path.join(folder, 'EPIC_Clusters_cells.csv'))\n",
    "print(df)"
   ]
  },
  {
   "cell_type": "code",
   "execution_count": null,
   "id": "ca90266d",
   "metadata": {
    "pycharm": {
     "name": "#%%\n"
    }
   },
   "outputs": [],
   "source": [
    "for i in df.columns.to_list():\n",
    "    print(i)\n",
    "    #fig = px.pie(df, values=i, color_discrete_map=color_map, sort=False)\n",
    "    df['text'] = df[i]\n",
    "    fig = go.Figure(\n",
    "        data=[\n",
    "            go.Pie(\n",
    "            labels=df.index,\n",
    "            values=df[i],\n",
    "            # Second, make sure that Plotly won't reorder your data while plotting\n",
    "            sort=False)\n",
    "    ]\n",
    "    )\n",
    "    fig.update_traces(marker=dict(colors=pd.Series(color_map))) # textinfo='none',\n",
    "    fig.update_layout(uniformtext_minsize=30, uniformtext_mode='hide')\n",
    "    fig.show()\n",
    "    fig.write_image(os.path.join(folder, f'Plot_EPIC_results_{i}.svg'))"
   ]
  },
  {
   "cell_type": "code",
   "execution_count": null,
   "id": "5f562fec",
   "metadata": {
    "pycharm": {
     "name": "#%%\n"
    }
   },
   "outputs": [],
   "source": [
    "df = df_cibersort_final.set_index('Cluster')\n",
    "df = df.T\n",
    "\n",
    "df.columns = ['I', 'II', 'III']\n",
    "df.to_csv(os.path.join(folder_sub, 'CIBERSORT_Clusters_cells.csv'))\n",
    "print(df)"
   ]
  },
  {
   "cell_type": "code",
   "execution_count": null,
   "id": "8e4eacc9",
   "metadata": {
    "pycharm": {
     "name": "#%%\n"
    }
   },
   "outputs": [],
   "source": [
    "for i in df.columns.to_list():\n",
    "    print(i)\n",
    "    #fig = px.pie(df, values=i, color_discrete_map=color_map, sort=False)\n",
    "    fig = go.Figure(\n",
    "        data=[\n",
    "            go.Pie(\n",
    "            labels=df.index,\n",
    "            values=df[i],\n",
    "            # Second, make sure that Plotly won't reorder your data while plotting\n",
    "            sort=False)\n",
    "    ]\n",
    "    )\n",
    "    fig.update_traces(marker=dict(colors=pd.Series(color_map))) # textinfo='none',\n",
    "    fig.update_layout(uniformtext_minsize=30, uniformtext_mode='hide')\n",
    "    fig.show()\n",
    "    fig.write_image(os.path.join(folder_sub, f'Plot_CIBERSORT_results_{i}.svg'))"
   ]
  },
  {
   "cell_type": "markdown",
   "id": "f710e526",
   "metadata": {
    "pycharm": {
     "name": "#%% md\n"
    }
   },
   "source": [
    "## WIP: combine into one for big plot"
   ]
  },
  {
   "cell_type": "code",
   "execution_count": null,
   "id": "1fea0205",
   "metadata": {
    "pycharm": {
     "name": "#%%\n"
    }
   },
   "outputs": [],
   "source": [
    "import pandas as pd; import numpy as np\n",
    "# Step: Concatenate dataframes vertically\n",
    "df_final = pd.concat([df_cibersort_final, df_epic_final], axis=0, ignore_index=True)\n",
    "\n",
    "import pandas as pd; import numpy as np\n",
    "df_final.columns = [str(column) for column in df_final.columns]\n",
    "df_final = df_final.set_index('Cluster')\n",
    "\n",
    "import pandas as pd; import numpy as np\n",
    "df_final = df_final.reset_index()\n",
    "df_final.columns = [str(column) for column in df_final.columns]\n",
    "df_final"
   ]
  },
  {
   "cell_type": "code",
   "execution_count": null,
   "id": "28770895",
   "metadata": {
    "pycharm": {
     "name": "#%%\n"
    }
   },
   "outputs": [],
   "source": [
    "#plot into nice frame\n",
    "import plotly.express as px\n",
    "from plotly.subplots import make_subplots\n",
    "import plotly.graph_objects as go\n",
    "\n",
    "#fig = make_subplots(rows=2, cols=3)\n",
    "\n",
    "for row in df_final.iterrows:\n",
    "    fig = px.pie(df_ciber, values=i, names=df_ciber.index.to_list())\n",
    "    fig.show()\n",
    "    fig.write_image(os.path.join(folder, f'Plot_Cibersort_results_{i}.pdf'))"
   ]
  },
  {
   "cell_type": "code",
   "execution_count": null,
   "id": "65c952b8",
   "metadata": {
    "pycharm": {
     "name": "#%%\n"
    }
   },
   "outputs": [],
   "source": []
  },
  {
   "cell_type": "code",
   "execution_count": null,
   "id": "9bc180ae",
   "metadata": {
    "pycharm": {
     "name": "#%%\n"
    }
   },
   "outputs": [],
   "source": []
  }
 ],
 "metadata": {
  "kernelspec": {
   "display_name": "Python 3 (ipykernel)",
   "language": "python",
   "name": "python3"
  },
  "language_info": {
   "codemirror_mode": {
    "name": "ipython",
    "version": 3
   },
   "file_extension": ".py",
   "mimetype": "text/x-python",
   "name": "python",
   "nbconvert_exporter": "python",
   "pygments_lexer": "ipython3",
   "version": "3.10.4"
  }
 },
 "nbformat": 4,
 "nbformat_minor": 5
}

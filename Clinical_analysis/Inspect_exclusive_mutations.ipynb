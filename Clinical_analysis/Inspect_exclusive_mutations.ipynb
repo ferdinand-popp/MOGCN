{
 "cells": [
  {
   "cell_type": "code",
   "execution_count": null,
   "id": "1b081b14",
   "metadata": {
    "pycharm": {
     "name": "#%%\n"
    }
   },
   "outputs": [],
   "source": [
    "import pandas as pd\n",
    "import os\n",
    "import plotly.express as px"
   ]
  },
  {
   "cell_type": "code",
   "execution_count": null,
   "id": "eb560465",
   "metadata": {
    "pycharm": {
     "name": "#%%\n"
    }
   },
   "outputs": [],
   "source": [
    "url = r'Z:\\HiWi\\Popp\\TCGA_NSCLC_2022\\LUAD\\Somatic_mutation\\TCGA-LUAD.mutect2_snv.tsv' # r\"Z:\\HiWi\\Popp\\TCGA_Breast_2022\\TCGA-BRCA.mutect2_snv.tsv\" # r'Z:\\HiWi\\Popp\\TCGA_NSCLC_2022\\LUAD\\Somatic_mutation\\TCGA-LUAD.mutect2_snv.tsv'\n",
    "df_LUAD = pd.read_csv(url, sep='\\t', index_col=0)\n",
    "df_LUAD = df_LUAD[['gene', 'effect']] # kick chr and vaf\n",
    "df = df_LUAD\n",
    "df_LUAD\n",
    "#filter effects missense or all\n",
    "#include_effect = ['stop_gained', 'stop_lost', 'missense_variant', 'frameshift_variant']\n",
    "#df = df[df.effect.str.contains('|'.join(include_effect))]\n",
    "df = df[df.effect == 'missense_variant']\n",
    "df.reset_index(inplace=True)\n",
    "df"
   ]
  },
  {
   "cell_type": "code",
   "execution_count": null,
   "id": "328b5651",
   "metadata": {
    "pycharm": {
     "name": "#%%\n"
    }
   },
   "outputs": [],
   "source": [
    "# load labels\n",
    "path = r'D:\\FPOPP\\MoGCN\\result\\galant_sweep_14\\labels.csv'\n",
    "folder = os.path.dirname(path)\n",
    "df_labels = pd.read_csv(path, index_col=1)\n",
    "df_labels = df_labels[['Sample_ID', 'Labels']]\n",
    "if 0 in df_labels['Labels']:\n",
    "    df_labels['Labels'] = df_labels['Labels'] + 1\n",
    "df_labels"
   ]
  },
  {
   "cell_type": "code",
   "execution_count": null,
   "id": "1aa516b6",
   "metadata": {
    "pycharm": {
     "name": "#%%\n"
    }
   },
   "outputs": [],
   "source": [
    "mutations_list = ['OBSCN', 'KEAP1','FAT3', 'ADAMTS12',  'RP1L1', 'CDH10', 'PAPPA2',\n",
    "                  'EGFR' ,'STK11','TNR','MUC17', 'RYR3' ,'COL11A1']\n",
    "df = df[df.gene.isin(mutations_list)]\n",
    "df"
   ]
  },
  {
   "cell_type": "code",
   "execution_count": null,
   "id": "6f771bf4",
   "metadata": {
    "pycharm": {
     "name": "#%%\n"
    }
   },
   "outputs": [],
   "source": [
    "df_merge = df.merge(df_labels, on='Sample_ID', how='left')\n",
    "df_merge"
   ]
  },
  {
   "cell_type": "code",
   "execution_count": null,
   "id": "076582f6",
   "metadata": {
    "pycharm": {
     "name": "#%%\n"
    }
   },
   "outputs": [],
   "source": [
    "fig = px.bar(df_merge, x='gene', y='effect')\n",
    "fig.update_xaxes(categoryorder='array', categoryarray= mutations_list)\n",
    "fig.show()"
   ]
  },
  {
   "cell_type": "code",
   "execution_count": null,
   "id": "e5c7a5ca",
   "metadata": {
    "scrolled": false,
    "pycharm": {
     "name": "#%%\n"
    }
   },
   "outputs": [],
   "source": [
    "# loop through labels and grab top 20 mutations\n",
    "df_final = pd.DataFrame()\n",
    "df_group = df_labels.groupby('Labels')\n",
    "# Loop through each group and plot the scatter plot\n",
    "for name, df_sub in df_group:\n",
    "    df_sum = df[df.Sample_ID.isin(df_sub.Sample_ID)]\n",
    "    counts = df_sum.groupby(['gene', 'effect']).size().reset_index(name='count')\n",
    "    counts['occurence'] = counts['count'] / len(df_sub.Sample_ID)    \n",
    "    fig = px.bar(counts, x='gene', y='occurence', color='effect', title=name)\n",
    "    fig.update_xaxes(categoryorder='array', categoryarray= mutations_list)\n",
    "    fig.update_layout(yaxis=dict(range=[0,0.4]))\n",
    "    \n",
    "    fig.show()"
   ]
  },
  {
   "cell_type": "code",
   "execution_count": null,
   "id": "30cb355c",
   "metadata": {
    "pycharm": {
     "name": "#%%\n"
    }
   },
   "outputs": [],
   "source": []
  }
 ],
 "metadata": {
  "kernelspec": {
   "display_name": "Python 3 (ipykernel)",
   "language": "python",
   "name": "python3"
  },
  "language_info": {
   "codemirror_mode": {
    "name": "ipython",
    "version": 3
   },
   "file_extension": ".py",
   "mimetype": "text/x-python",
   "name": "python",
   "nbconvert_exporter": "python",
   "pygments_lexer": "ipython3",
   "version": "3.10.4"
  }
 },
 "nbformat": 4,
 "nbformat_minor": 5
}